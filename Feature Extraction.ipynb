{
  "nbformat": 4,
  "nbformat_minor": 0,
  "metadata": {
    "colab": {
      "name": "final_feature_extraction.ipynb",
      "provenance": [],
      "collapsed_sections": []
    },
    "kernelspec": {
      "name": "python3",
      "display_name": "Python 3"
    },
    "accelerator": "GPU"
  },
  "cells": [
    {
      "cell_type": "code",
      "metadata": {
        "id": "hQYqPEyytT2a",
        "colab_type": "code",
        "colab": {}
      },
      "source": [
        "import numpy as np\n",
        "import math\n",
        "import os.path\n",
        "import csv\n",
        "import glob\n",
        "import tensorflow as tf\n",
        "import h5py as h5py\n",
        "from keras.preprocessing import image\n",
        "from keras.applications.inception_v3 import InceptionV3, preprocess_input\n",
        "from keras.models import Model, load_model"
      ],
      "execution_count": 0,
      "outputs": []
    },
    {
      "cell_type": "code",
      "metadata": {
        "id": "L09UMHR3unrx",
        "colab_type": "code",
        "colab": {}
      },
      "source": [
        "import imageio\n",
        "import matplotlib.pyplot as plt\n",
        "from mlxtend.image import extract_face_landmarks"
      ],
      "execution_count": 0,
      "outputs": []
    },
    {
      "cell_type": "code",
      "metadata": {
        "id": "b-JU_7-ytcqx",
        "colab_type": "code",
        "outputId": "3b70ec9f-8f4f-4c28-fc1c-3ad785c77512",
        "colab": {
          "base_uri": "https://localhost:8080/",
          "height": 69
        }
      },
      "source": [
        "from google.colab import drive\n",
        "drive.mount('/content/drive/')"
      ],
      "execution_count": 0,
      "outputs": [
        {
          "output_type": "stream",
          "text": [
            "Drive already mounted at /content/drive/; to attempt to forcibly remount, call drive.mount(\"/content/drive/\", force_remount=True).\n"
          ],
          "name": "stdout"
        }
      ]
    },
    {
      "cell_type": "code",
      "metadata": {
        "id": "I1BN_yg-PlmU",
        "colab_type": "code",
        "outputId": "1c889835-d70f-40ea-9ff7-8e0ceeed8552",
        "colab": {
          "base_uri": "https://localhost:8080/",
          "height": 63
        }
      },
      "source": [
        "! ls '/content/drive/My Drive/'"
      ],
      "execution_count": 0,
      "outputs": [
        {
          "output_type": "stream",
          "text": [
            " Fold5_part1   Fold5_part2  'Getting started.pdf'\n"
          ],
          "name": "stdout"
        }
      ]
    },
    {
      "cell_type": "code",
      "metadata": {
        "id": "s-p-3knNupj6",
        "colab_type": "code",
        "colab": {}
      },
      "source": [
        "def eye_aspect_ratio(eye):\n",
        "\tA = distance.euclidean(eye[1], eye[5])\n",
        "\tB = distance.euclidean(eye[2], eye[4])\n",
        "\tC = distance.euclidean(eye[0], eye[3])\n",
        "\tear = (A + B) / (2.0 * C)\n",
        "\treturn ear"
      ],
      "execution_count": 0,
      "outputs": []
    },
    {
      "cell_type": "code",
      "metadata": {
        "id": "Gacb2hPmubbr",
        "colab_type": "code",
        "colab": {}
      },
      "source": [
        "def mouth_aspect_ratio(mouth):\n",
        "    A = distance.euclidean(mouth[14], mouth[18])\n",
        "    C = distance.euclidean(mouth[12], mouth[16])\n",
        "    mar = (A ) / (C)\n",
        "    return mar"
      ],
      "execution_count": 0,
      "outputs": []
    },
    {
      "cell_type": "code",
      "metadata": {
        "id": "dYhTecWBuygh",
        "colab_type": "code",
        "colab": {}
      },
      "source": [
        "def circularity(eye):\n",
        "    A = distance.euclidean(eye[1], eye[4])\n",
        "    radius  = A/2.0\n",
        "    Area = math.pi * (radius ** 2)\n",
        "    p = 0\n",
        "    p += distance.euclidean(eye[0], eye[1])\n",
        "    p += distance.euclidean(eye[1], eye[2])\n",
        "    p += distance.euclidean(eye[2], eye[3])\n",
        "    p += distance.euclidean(eye[3], eye[4])\n",
        "    p += distance.euclidean(eye[4], eye[5])\n",
        "    p += distance.euclidean(eye[5], eye[0])\n",
        "    return 4 * math.pi * Area /(p**2)"
      ],
      "execution_count": 0,
      "outputs": []
    },
    {
      "cell_type": "code",
      "metadata": {
        "id": "0FpZ1jDou4dx",
        "colab_type": "code",
        "colab": {}
      },
      "source": [
        "def mouth_over_eye(eye):\n",
        "    ear = eye_aspect_ratio(eye)\n",
        "    mar = mouth_aspect_ratio(eye)\n",
        "    mouth_eye = mar/ear\n",
        "    return mouth_eye"
      ],
      "execution_count": 0,
      "outputs": []
    },
    {
      "cell_type": "code",
      "metadata": {
        "id": "aZ0uQXMcu81N",
        "colab_type": "code",
        "colab": {}
      },
      "source": [
        "def getFrame(sec):\n",
        "    start = 180000\n",
        "    vidcap.set(cv2.CAP_PROP_POS_MSEC, start + sec*1000)\n",
        "    hasFrames,image = vidcap.read()\n",
        "    return hasFrames, image"
      ],
      "execution_count": 0,
      "outputs": []
    },
    {
      "cell_type": "code",
      "metadata": {
        "id": "tO2j7gMPu_3f",
        "colab_type": "code",
        "colab": {}
      },
      "source": [
        "# main program\n",
        "from scipy.spatial import distance\n",
        "import cv2\n",
        "data = []\n",
        "labels = []\n",
        "for j in [60]:\n",
        "  for i in [10]:\n",
        "    vidcap = cv2.VideoCapture('drive/My Drive/Fold5_part2/' + str(j) +'/' + str(i) + '.mp4')\n",
        "    sec = 0\n",
        "    frameRate = 1\n",
        "    success, image  = getFrame(sec)\n",
        "    count = 0\n",
        "    while success and count < 240: \n",
        "          landmarks = extract_face_landmarks(image)\n",
        "          if sum(sum(landmarks)) != 0:\n",
        "              count += 1\n",
        "              data.append(landmarks)\n",
        "              labels.append([i])\n",
        "              sec = sec + frameRate\n",
        "              sec = round(sec, 2)\n",
        "              success, image = getFrame(sec)\n",
        "              print(count)\n",
        "          else:  \n",
        "              sec = sec + frameRate\n",
        "              sec = round(sec, 2)\n",
        "              success, image = getFrame(sec)\n",
        "              print(\"not detected\")\n",
        "        "
      ],
      "execution_count": 0,
      "outputs": []
    },
    {
      "cell_type": "code",
      "metadata": {
        "id": "p-6fHdXuvD85",
        "colab_type": "code",
        "colab": {}
      },
      "source": [
        "import numpy as np\n",
        "data = np.array(data)\n",
        "labels = np.array(labels)"
      ],
      "execution_count": 0,
      "outputs": []
    },
    {
      "cell_type": "code",
      "metadata": {
        "id": "WMmgtUjvvHR3",
        "colab_type": "code",
        "colab": {}
      },
      "source": [
        "features = []\n",
        "for d in data:\n",
        "  eye = d[36:68]\n",
        "  ear = eye_aspect_ratio(eye)\n",
        "  mar = mouth_aspect_ratio(eye)\n",
        "  cir = circularity(eye)\n",
        "  mouth_eye = mouth_over_eye(eye)\n",
        "  features.append([ear, mar, cir, mouth_eye])"
      ],
      "execution_count": 0,
      "outputs": []
    },
    {
      "cell_type": "code",
      "metadata": {
        "id": "-9N4tUy9wu4z",
        "colab_type": "code",
        "outputId": "6681de27-0450-4388-efb8-6dcaca57b753",
        "colab": {
          "base_uri": "https://localhost:8080/",
          "height": 34
        }
      },
      "source": [
        "features = np.array(features)\n",
        "features.shape"
      ],
      "execution_count": 0,
      "outputs": [
        {
          "output_type": "execute_result",
          "data": {
            "text/plain": [
              "(240, 4)"
            ]
          },
          "metadata": {
            "tags": []
          },
          "execution_count": 23
        }
      ]
    },
    {
      "cell_type": "code",
      "metadata": {
        "id": "vFcl7obTxAEQ",
        "colab_type": "code",
        "outputId": "0e6dece1-4207-4f6f-9448-57da33f84a7b",
        "colab": {
          "base_uri": "https://localhost:8080/",
          "height": 34
        }
      },
      "source": [
        "data.shape"
      ],
      "execution_count": 0,
      "outputs": [
        {
          "output_type": "execute_result",
          "data": {
            "text/plain": [
              "(240, 68, 2)"
            ]
          },
          "metadata": {
            "tags": []
          },
          "execution_count": 24
        }
      ]
    },
    {
      "cell_type": "code",
      "metadata": {
        "id": "N0bK8yFt5m6p",
        "colab_type": "code",
        "outputId": "add4d009-9a39-4986-e9a5-5061e1c3fa47",
        "colab": {
          "base_uri": "https://localhost:8080/",
          "height": 34
        }
      },
      "source": [
        "labels.shape"
      ],
      "execution_count": 0,
      "outputs": [
        {
          "output_type": "execute_result",
          "data": {
            "text/plain": [
              "(240, 1)"
            ]
          },
          "metadata": {
            "tags": []
          },
          "execution_count": 25
        }
      ]
    },
    {
      "cell_type": "code",
      "metadata": {
        "id": "UKWDJ5-I0Pt7",
        "colab_type": "code",
        "colab": {}
      },
      "source": [
        "# change file name to save \n",
        "np.save(open('Data_60_10.npy', 'wb'),data)\n",
        "np.save(open('Fold5_part2_features_60_10.npy', 'wb'),features)\n",
        "np.save(open('Fold5_part2_labels_60_10.npy', 'wb'),labels)\n",
        "np.savetxt(\"Fold5_part2_features_60_10.csv\", features, delimiter = \",\")\n",
        "np.savetxt(\"Fold5_part2_labels_60_10.csv\", labels, delimiter = \",\")"
      ],
      "execution_count": 0,
      "outputs": []
    },
    {
      "cell_type": "code",
      "metadata": {
        "id": "uZtPlC0J2KdH",
        "colab_type": "code",
        "colab": {}
      },
      "source": [
        "# how to load npy data file to colab\n",
        "a = np.load('Data_32_0.npy')\n",
        "b = np.load('Fold3_part2_features_32_0.npy')\n",
        "c = np.load('Fold3_part2_labels_32_0.npy')"
      ],
      "execution_count": 0,
      "outputs": []
    }
  ]
}