{
  "nbformat": 4,
  "nbformat_minor": 0,
  "metadata": {
    "kernelspec": {
      "display_name": "Python 3",
      "language": "python",
      "name": "python3"
    },
    "language_info": {
      "codemirror_mode": {
        "name": "ipython",
        "version": 3
      },
      "file_extension": ".py",
      "mimetype": "text/x-python",
      "name": "python",
      "nbconvert_exporter": "python",
      "pygments_lexer": "ipython3",
      "version": "3.7.3"
    },
    "colab": {
      "name": "Normalization.ipynb",
      "provenance": []
    }
  },
  "cells": [
    {
      "cell_type": "code",
      "metadata": {
        "id": "D-JYZbzoUDEJ",
        "colab_type": "code",
        "colab": {}
      },
      "source": [
        "import pandas as pd"
      ],
      "execution_count": 0,
      "outputs": []
    },
    {
      "cell_type": "code",
      "metadata": {
        "id": "e6OdyjbZUDEO",
        "colab_type": "code",
        "colab": {}
      },
      "source": [
        "#Reading in the files and merging the data\n",
        "df0=pd.read_csv('Aurangzaib.csv')\n",
        "df1=pd.read_csv('Elaine.csv')\n",
        "df2=pd.read_csv('Sandy.csv')\n",
        "df3=pd.read_csv('Grant.csv')\n",
        "\n",
        "total=[df0,df1,df2,df3]\n",
        "total=pd.concat(total)\n",
        "total = total.drop([\"Unnamed: 0\"],axis=1)\n",
        "\n",
        "#Saving the merged data into a CSV\n",
        "total.to_csv('totalwithrespondent.csv',index=False)"
      ],
      "execution_count": 0,
      "outputs": []
    },
    {
      "cell_type": "code",
      "metadata": {
        "id": "z7zbBuexUDER",
        "colab_type": "code",
        "colab": {}
      },
      "source": [
        "#Reading the CSV back into a dataframe\n",
        "df = pd.read_csv('totalwithrespondent.csv')\n",
        "\n",
        "#Reordering the columns\n",
        "cols = df.columns.tolist()\n",
        "cols = cols[-1:] + cols[4:5] + cols[:4]\n",
        "df = df[cols]"
      ],
      "execution_count": 0,
      "outputs": []
    },
    {
      "cell_type": "code",
      "metadata": {
        "id": "Lb7gkzxdUDEU",
        "colab_type": "code",
        "colab": {}
      },
      "source": [
        "#Separating the rows which are \"Alert\" only\n",
        "df_alert = df[df[\"Y\"]==0] "
      ],
      "execution_count": 0,
      "outputs": []
    },
    {
      "cell_type": "code",
      "metadata": {
        "id": "qwuFl9EZUDEX",
        "colab_type": "code",
        "colab": {}
      },
      "source": [
        "#Creating separate dataframes for each respondent's first, second and third \"Alert\" frame\n",
        "df_alert_1 = df_alert.iloc[0::240, :]\n",
        "df_alert_2 = df_alert.iloc[1::240, :]\n",
        "df_alert_3 = df_alert.iloc[2::240, :]"
      ],
      "execution_count": 0,
      "outputs": []
    },
    {
      "cell_type": "code",
      "metadata": {
        "id": "Ikv_4bF-UDEa",
        "colab_type": "code",
        "colab": {}
      },
      "source": [
        "#Merging them into one dataframe\n",
        "alert_first3 = [df_alert_1,df_alert_2,df_alert_3]\n",
        "df_alert_first3 = pd.concat(alert_first3)\n",
        "df_alert_first3 = df_alert_first3.sort_index()"
      ],
      "execution_count": 0,
      "outputs": []
    },
    {
      "cell_type": "code",
      "metadata": {
        "id": "0NPrHH8wUDEb",
        "colab_type": "code",
        "colab": {}
      },
      "source": [
        "#Based on the first 3 \"Alert\" frames, calculating respondent-wise mean and std for each feature\n",
        "df_means = df_alert_first3.groupby(\"Respondent\")[\"EAR\",\"MAR\",\"Circularity\",\"MOE\"].mean()\n",
        "df_std = df_alert_first3.groupby(\"Respondent\")[\"EAR\",\"MAR\",\"Circularity\",\"MOE\"].std()"
      ],
      "execution_count": 0,
      "outputs": []
    },
    {
      "cell_type": "code",
      "metadata": {
        "id": "SLtDq7E9UDEe",
        "colab_type": "code",
        "colab": {}
      },
      "source": [
        "#Functions for mean and std for each feature\n",
        "def mean_EAR(respondent):\n",
        "    return df_means.loc[respondent][\"EAR\"]\n",
        "\n",
        "def mean_MAR(respondent):\n",
        "    return df_means.loc[respondent][\"MAR\"]\n",
        "\n",
        "def mean_Circularity(respondent):\n",
        "    return df_means.loc[respondent][\"Circularity\"]\n",
        "\n",
        "def mean_MOE(respondent):\n",
        "    return df_means.loc[respondent][\"MOE\"]\n",
        "\n",
        "\n",
        "def std_EAR(respondent):\n",
        "    return df_std.loc[respondent][\"EAR\"]\n",
        "\n",
        "def std_MAR(respondent):\n",
        "    return df_std.loc[respondent][\"MAR\"]\n",
        "\n",
        "def std_Circularity(respondent):\n",
        "    return df_std.loc[respondent][\"Circularity\"]\n",
        "\n",
        "def std_MOE(respondent):\n",
        "    return df_std.loc[respondent][\"MOE\"]"
      ],
      "execution_count": 0,
      "outputs": []
    },
    {
      "cell_type": "code",
      "metadata": {
        "id": "LWHFa1QaUDEg",
        "colab_type": "code",
        "colab": {}
      },
      "source": [
        "#Adding respondent-wise mean and std for each feature to each row in the original dataframe\n",
        "df[\"EAR_mean\"] = df[\"Respondent\"].apply(mean_EAR)\n",
        "df[\"MAR_mean\"] = df[\"Respondent\"].apply(mean_MAR)\n",
        "df[\"Circularity_mean\"] = df[\"Respondent\"].apply(mean_Circularity)\n",
        "df[\"MOE_mean\"] = df[\"Respondent\"].apply(mean_MOE)\n",
        "\n",
        "df[\"EAR_std\"] = df[\"Respondent\"].apply(std_EAR)\n",
        "df[\"MAR_std\"] = df[\"Respondent\"].apply(std_MAR)\n",
        "df[\"Circularity_std\"] = df[\"Respondent\"].apply(std_Circularity)\n",
        "df[\"MOE_std\"] = df[\"Respondent\"].apply(std_MOE)"
      ],
      "execution_count": 0,
      "outputs": []
    },
    {
      "cell_type": "code",
      "metadata": {
        "id": "tF3tz7GJUDEi",
        "colab_type": "code",
        "colab": {}
      },
      "source": [
        "#Calculating normalised features for each row in the original dataframe\n",
        "df[\"EAR_N\"] = (df[\"EAR\"]-df[\"EAR_mean\"])/ df[\"EAR_std\"]\n",
        "df[\"MAR_N\"] = (df[\"MAR\"]-df[\"MAR_mean\"])/ df[\"MAR_std\"]\n",
        "df[\"Circularity_N\"] = (df[\"Circularity\"]-df[\"Circularity_mean\"])/ df[\"Circularity_std\"]\n",
        "df[\"MOE_N\"] = (df[\"MOE\"]-df[\"MOE_mean\"])/ df[\"MOE_std\"]\n"
      ],
      "execution_count": 0,
      "outputs": []
    },
    {
      "cell_type": "code",
      "metadata": {
        "id": "Fp9idPATUDEl",
        "colab_type": "code",
        "colab": {}
      },
      "source": [
        "#Saving the file to a CSV with all the information\n",
        "df.to_csv('totalwithallinfo.csv',index=False)"
      ],
      "execution_count": 0,
      "outputs": []
    },
    {
      "cell_type": "code",
      "metadata": {
        "id": "KmZHY_EJUDEn",
        "colab_type": "code",
        "colab": {}
      },
      "source": [
        "#Saving the file to a CSV with all the information\n",
        "df_main = df.drop([\"EAR_mean\",\"MAR_mean\",\"Circularity_mean\",\"MOE_mean\",\"EAR_std\",\"MAR_std\",\"Circularity_std\",\"MOE_std\"],axis=1)\n",
        "df_main.to_csv('totalwithmaininfo.csv',index=False)"
      ],
      "execution_count": 0,
      "outputs": []
    }
  ]
}