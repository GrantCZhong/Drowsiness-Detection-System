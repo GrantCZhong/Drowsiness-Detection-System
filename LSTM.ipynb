{
  "nbformat": 4,
  "nbformat_minor": 0,
  "metadata": {
    "colab": {
      "name": "LSTM.ipynb",
      "provenance": [],
      "collapsed_sections": []
    },
    "kernelspec": {
      "name": "python3",
      "display_name": "Python 3"
    },
    "accelerator": "GPU"
  },
  "cells": [
    {
      "cell_type": "code",
      "metadata": {
        "id": "a5xDB-0YCnTF",
        "colab_type": "code",
        "outputId": "26ea813c-eab9-4409-882b-50f5a907fc6e",
        "colab": {
          "base_uri": "https://localhost:8080/",
          "height": 123
        }
      },
      "source": [
        "from google.colab import drive\n",
        "drive.mount('/content/drive')"
      ],
      "execution_count": 0,
      "outputs": [
        {
          "output_type": "stream",
          "text": [
            "Go to this URL in a browser: https://accounts.google.com/o/oauth2/auth?client_id=947318989803-6bn6qk8qdgf4n4g3pfee6491hc0brc4i.apps.googleusercontent.com&redirect_uri=urn%3aietf%3awg%3aoauth%3a2.0%3aoob&response_type=code&scope=email%20https%3a%2f%2fwww.googleapis.com%2fauth%2fdocs.test%20https%3a%2f%2fwww.googleapis.com%2fauth%2fdrive%20https%3a%2f%2fwww.googleapis.com%2fauth%2fdrive.photos.readonly%20https%3a%2f%2fwww.googleapis.com%2fauth%2fpeopleapi.readonly\n",
            "\n",
            "Enter your authorization code:\n",
            "··········\n",
            "Mounted at /content/drive\n"
          ],
          "name": "stdout"
        }
      ]
    },
    {
      "cell_type": "code",
      "metadata": {
        "id": "NAeqFy8gXWVF",
        "colab_type": "code",
        "colab": {}
      },
      "source": [
        "\n",
        "import pandas as pd\n",
        "df = pd.read_csv('drive/My Drive/Fall APM Project/totalwithmaininfo.csv',sep=',')"
      ],
      "execution_count": 0,
      "outputs": []
    },
    {
      "cell_type": "code",
      "metadata": {
        "id": "8uWO0GegJGfW",
        "colab_type": "code",
        "colab": {}
      },
      "source": [
        "df=df.drop(df.columns[0], axis=1)"
      ],
      "execution_count": 0,
      "outputs": []
    },
    {
      "cell_type": "code",
      "metadata": {
        "id": "xCcrX2clXBFZ",
        "colab_type": "code",
        "colab": {}
      },
      "source": [
        "train_percentage = 17/22\n",
        "train_index = int(len(df)*train_percentage)\n",
        "test_index = len(df)-train_index"
      ],
      "execution_count": 0,
      "outputs": []
    },
    {
      "cell_type": "code",
      "metadata": {
        "id": "XFxGMN1uXyd_",
        "colab_type": "code",
        "colab": {}
      },
      "source": [
        "df_train = df[:train_index]\n",
        "df_test = df[-test_index:]"
      ],
      "execution_count": 0,
      "outputs": []
    },
    {
      "cell_type": "code",
      "metadata": {
        "id": "NSPtv0PYYF7v",
        "colab_type": "code",
        "colab": {}
      },
      "source": [
        "x_test = df_test.drop([\"Y\"],axis=1)\n",
        "y_test = df_test[\"Y\"]"
      ],
      "execution_count": 0,
      "outputs": []
    },
    {
      "cell_type": "code",
      "metadata": {
        "id": "pbkVn0MvYkzK",
        "colab_type": "code",
        "colab": {}
      },
      "source": [
        "x_train = df_train.drop('Y',axis=1)\n",
        "y_train = df_train['Y']"
      ],
      "execution_count": 0,
      "outputs": []
    },
    {
      "cell_type": "code",
      "metadata": {
        "id": "KrpHxM6gDeYB",
        "colab_type": "code",
        "outputId": "717a1e57-eb36-4a46-e3b1-61b8b25e83d2",
        "colab": {
          "base_uri": "https://localhost:8080/",
          "height": 34
        }
      },
      "source": [
        "x_test.shape"
      ],
      "execution_count": 0,
      "outputs": [
        {
          "output_type": "execute_result",
          "data": {
            "text/plain": [
              "(2400, 8)"
            ]
          },
          "metadata": {
            "tags": []
          },
          "execution_count": 15
        }
      ]
    },
    {
      "cell_type": "code",
      "metadata": {
        "id": "k6cJosvmYwha",
        "colab_type": "code",
        "outputId": "3b1d42b2-9156-4cb4-ece6-70baaaeeeba6",
        "colab": {
          "base_uri": "https://localhost:8080/",
          "height": 34
        }
      },
      "source": [
        "x_train.shape"
      ],
      "execution_count": 0,
      "outputs": [
        {
          "output_type": "execute_result",
          "data": {
            "text/plain": [
              "(8160, 8)"
            ]
          },
          "metadata": {
            "tags": []
          },
          "execution_count": 16
        }
      ]
    },
    {
      "cell_type": "code",
      "metadata": {
        "id": "tEmlPojUYrKU",
        "colab_type": "code",
        "colab": {}
      },
      "source": [
        "import numpy as np\n",
        "x_shaped_train  = np.array(x_train).reshape(1632,5,8)\n",
        "x_shaped_test  = np.array(x_test).reshape(480,5,8)"
      ],
      "execution_count": 0,
      "outputs": []
    },
    {
      "cell_type": "code",
      "metadata": {
        "id": "VtcjdfayZujE",
        "colab_type": "code",
        "outputId": "f5ae7434-f5e7-4063-f4b0-2c4ebe14ff2b",
        "colab": {
          "base_uri": "https://localhost:8080/",
          "height": 51
        }
      },
      "source": [
        "y_train = np.array(y_train)\n",
        "y_test = np.array(y_test)\n",
        "\n",
        "y_shaped_train  = []\n",
        "for i in range(0, len(y_train), 5):\n",
        "  y_shaped_train.append([y_train[i]])\n",
        "print(len(y_shaped_train))\n",
        "\n",
        "y_shaped_test  = []\n",
        "for i in range(0, len(y_test), 5):\n",
        "  y_shaped_test.append([y_test[i]])\n",
        "print(len(y_shaped_test))"
      ],
      "execution_count": 0,
      "outputs": [
        {
          "output_type": "stream",
          "text": [
            "1632\n",
            "480\n"
          ],
          "name": "stdout"
        }
      ]
    },
    {
      "cell_type": "code",
      "metadata": {
        "id": "hLuf7dvXbh8L",
        "colab_type": "code",
        "outputId": "b3240806-f8d6-4b06-f453-66f9cae7dbb9",
        "colab": {
          "base_uri": "https://localhost:8080/",
          "height": 34
        }
      },
      "source": [
        "x_shaped_train.shape"
      ],
      "execution_count": 0,
      "outputs": [
        {
          "output_type": "execute_result",
          "data": {
            "text/plain": [
              "(1632, 5, 8)"
            ]
          },
          "metadata": {
            "tags": []
          },
          "execution_count": 19
        }
      ]
    },
    {
      "cell_type": "code",
      "metadata": {
        "id": "i6N3HkPibkOb",
        "colab_type": "code",
        "outputId": "7ebdae92-df54-4b30-b295-b33c261cb15a",
        "colab": {
          "base_uri": "https://localhost:8080/",
          "height": 34
        }
      },
      "source": [
        "x_shaped_test.shape"
      ],
      "execution_count": 0,
      "outputs": [
        {
          "output_type": "execute_result",
          "data": {
            "text/plain": [
              "(480, 5, 8)"
            ]
          },
          "metadata": {
            "tags": []
          },
          "execution_count": 20
        }
      ]
    },
    {
      "cell_type": "code",
      "metadata": {
        "id": "x_qDlUwjbkUR",
        "colab_type": "code",
        "outputId": "2280502f-d406-412f-fe11-88f3655a7ab2",
        "colab": {
          "base_uri": "https://localhost:8080/",
          "height": 34
        }
      },
      "source": [
        "y_shaped_train = np.array(y_shaped_train)\n",
        "y_shaped_train.shape"
      ],
      "execution_count": 0,
      "outputs": [
        {
          "output_type": "execute_result",
          "data": {
            "text/plain": [
              "(1632, 1)"
            ]
          },
          "metadata": {
            "tags": []
          },
          "execution_count": 21
        }
      ]
    },
    {
      "cell_type": "code",
      "metadata": {
        "id": "gH8tR58PbkzU",
        "colab_type": "code",
        "outputId": "d116c724-009c-40bf-d4eb-d9f367824a4d",
        "colab": {
          "base_uri": "https://localhost:8080/",
          "height": 34
        }
      },
      "source": [
        "y_shaped_test = np.array(y_shaped_test)\n",
        "y_shaped_test.shape"
      ],
      "execution_count": 0,
      "outputs": [
        {
          "output_type": "execute_result",
          "data": {
            "text/plain": [
              "(480, 1)"
            ]
          },
          "metadata": {
            "tags": []
          },
          "execution_count": 22
        }
      ]
    },
    {
      "cell_type": "code",
      "metadata": {
        "id": "qkTiYZ70bTZB",
        "colab_type": "code",
        "outputId": "30e9171d-e5c4-42b0-88d1-e5796275b851",
        "colab": {
          "base_uri": "https://localhost:8080/",
          "height": 1000
        }
      },
      "source": [
        "import numpy as np\n",
        "from keras.utils import to_categorical\n",
        "from keras.layers import Dense, Flatten, Dropout, ZeroPadding3D\n",
        "from keras.layers.recurrent import LSTM\n",
        "from keras.models import Sequential, load_model\n",
        "from keras.optimizers import Adam, RMSprop\n",
        "from keras.layers.wrappers import TimeDistributed\n",
        "from keras.layers.convolutional import (Conv2D, MaxPooling3D, Conv3D,\n",
        "    MaxPooling2D)\n",
        "from collections import deque\n",
        "import sys\n",
        "\n",
        "metrics = ['accuracy']\n",
        "model = Sequential()\n",
        "model.add(Dense(1024, activation='sigmoid'))\n",
        "model.add(LSTM(512, return_sequences=True,\n",
        "                       input_shape=(5, 4,),\n",
        "                       dropout=0.5))\n",
        "\n",
        "model.add(Flatten())\n",
        "# Dense is fully connected layer. 16 hidden units\n",
        "# activation for lstm is basically sigmoid or tanh\n",
        "model.add(Dense(216, activation='sigmoid')) #FC1\n",
        "model.add(Dense(32, activation='tanh')) #FC2\n",
        "model.add(Dropout(0.5))\n",
        "model.add(Dense(16, activation='relu'))#FC3\n",
        "model.add(Dropout(0.5))\n",
        "model.add(Dense(1, activation='tanh'))#Output Layer\n",
        "optimizer = Adam(lr=0.00005)\n",
        "model.compile(loss='binary_crossentropy', optimizer=optimizer, metrics=metrics)\n",
        "model.fit(x_shaped_train, y_shaped_train, validation_data = (x_shaped_test,y_shaped_test), epochs=50, batch_size=  10)\n",
        "model.predict_classes(x_shaped_test)"
      ],
      "execution_count": 0,
      "outputs": [
        {
          "output_type": "stream",
          "text": [
            "Train on 1632 samples, validate on 480 samples\n",
            "Epoch 1/50\n",
            "1632/1632 [==============================] - 12s 7ms/step - loss: 1.8725 - acc: 0.5067 - val_loss: 0.8818 - val_acc: 0.5000\n",
            "Epoch 2/50\n",
            "1632/1632 [==============================] - 5s 3ms/step - loss: 1.3471 - acc: 0.5049 - val_loss: 0.7641 - val_acc: 0.5000\n",
            "Epoch 3/50\n",
            "1632/1632 [==============================] - 5s 3ms/step - loss: 1.1087 - acc: 0.5196 - val_loss: 0.6838 - val_acc: 0.5063\n",
            "Epoch 4/50\n",
            "1632/1632 [==============================] - 5s 3ms/step - loss: 1.0269 - acc: 0.5233 - val_loss: 0.6678 - val_acc: 0.5208\n",
            "Epoch 5/50\n",
            "1632/1632 [==============================] - 5s 3ms/step - loss: 0.9817 - acc: 0.5349 - val_loss: 0.7833 - val_acc: 0.5000\n",
            "Epoch 6/50\n",
            "1632/1632 [==============================] - 5s 3ms/step - loss: 0.9452 - acc: 0.5386 - val_loss: 0.8000 - val_acc: 0.5000\n",
            "Epoch 7/50\n",
            "1632/1632 [==============================] - 5s 3ms/step - loss: 1.0774 - acc: 0.5355 - val_loss: 0.7276 - val_acc: 0.5000\n",
            "Epoch 8/50\n",
            "1632/1632 [==============================] - 5s 3ms/step - loss: 1.0590 - acc: 0.5153 - val_loss: 0.7216 - val_acc: 0.4354\n",
            "Epoch 9/50\n",
            "1632/1632 [==============================] - 5s 3ms/step - loss: 0.9422 - acc: 0.5331 - val_loss: 0.7498 - val_acc: 0.5188\n",
            "Epoch 10/50\n",
            "1632/1632 [==============================] - 5s 3ms/step - loss: 0.9405 - acc: 0.5429 - val_loss: 0.6851 - val_acc: 0.5271\n",
            "Epoch 11/50\n",
            "1632/1632 [==============================] - 5s 3ms/step - loss: 0.8884 - acc: 0.5319 - val_loss: 0.6220 - val_acc: 0.7271\n",
            "Epoch 12/50\n",
            "1632/1632 [==============================] - 5s 3ms/step - loss: 0.8425 - acc: 0.5668 - val_loss: 0.6842 - val_acc: 0.5271\n",
            "Epoch 13/50\n",
            "1632/1632 [==============================] - 5s 3ms/step - loss: 0.8143 - acc: 0.5576 - val_loss: 0.6167 - val_acc: 0.6229\n",
            "Epoch 14/50\n",
            "1632/1632 [==============================] - 5s 3ms/step - loss: 0.8377 - acc: 0.5551 - val_loss: 0.6874 - val_acc: 0.5229\n",
            "Epoch 15/50\n",
            "1632/1632 [==============================] - 5s 3ms/step - loss: 0.8335 - acc: 0.5864 - val_loss: 0.5590 - val_acc: 0.7896\n",
            "Epoch 16/50\n",
            "1632/1632 [==============================] - 5s 3ms/step - loss: 0.8283 - acc: 0.5527 - val_loss: 0.6046 - val_acc: 0.7771\n",
            "Epoch 17/50\n",
            "1632/1632 [==============================] - 5s 3ms/step - loss: 0.8208 - acc: 0.5815 - val_loss: 0.6539 - val_acc: 0.6375\n",
            "Epoch 18/50\n",
            "1632/1632 [==============================] - 5s 3ms/step - loss: 0.9686 - acc: 0.5404 - val_loss: 0.6659 - val_acc: 0.5458\n",
            "Epoch 19/50\n",
            "1632/1632 [==============================] - 5s 3ms/step - loss: 0.9466 - acc: 0.5300 - val_loss: 0.7575 - val_acc: 0.5188\n",
            "Epoch 20/50\n",
            "1632/1632 [==============================] - 5s 3ms/step - loss: 0.8111 - acc: 0.5607 - val_loss: 0.6115 - val_acc: 0.6146\n",
            "Epoch 21/50\n",
            "1632/1632 [==============================] - 5s 3ms/step - loss: 0.7637 - acc: 0.5815 - val_loss: 0.5716 - val_acc: 0.6875\n",
            "Epoch 22/50\n",
            "1632/1632 [==============================] - 5s 3ms/step - loss: 0.7741 - acc: 0.5993 - val_loss: 0.5568 - val_acc: 0.7875\n",
            "Epoch 23/50\n",
            "1632/1632 [==============================] - 5s 3ms/step - loss: 0.7764 - acc: 0.5827 - val_loss: 0.5343 - val_acc: 0.7729\n",
            "Epoch 24/50\n",
            "1632/1632 [==============================] - 5s 3ms/step - loss: 0.7663 - acc: 0.5815 - val_loss: 0.6177 - val_acc: 0.6021\n",
            "Epoch 25/50\n",
            "1632/1632 [==============================] - 5s 3ms/step - loss: 0.8064 - acc: 0.5729 - val_loss: 0.6369 - val_acc: 0.5917\n",
            "Epoch 26/50\n",
            "1632/1632 [==============================] - 5s 3ms/step - loss: 0.7885 - acc: 0.5876 - val_loss: 0.5867 - val_acc: 0.6646\n",
            "Epoch 27/50\n",
            "1632/1632 [==============================] - 5s 3ms/step - loss: 0.7506 - acc: 0.5980 - val_loss: 0.5492 - val_acc: 0.7437\n",
            "Epoch 28/50\n",
            "1632/1632 [==============================] - 5s 3ms/step - loss: 0.7161 - acc: 0.6140 - val_loss: 0.5648 - val_acc: 0.7042\n",
            "Epoch 29/50\n",
            "1632/1632 [==============================] - 5s 3ms/step - loss: 0.7260 - acc: 0.6109 - val_loss: 0.6581 - val_acc: 0.5833\n",
            "Epoch 30/50\n",
            "1632/1632 [==============================] - 5s 3ms/step - loss: 0.6953 - acc: 0.6189 - val_loss: 0.5924 - val_acc: 0.6688\n",
            "Epoch 31/50\n",
            "1632/1632 [==============================] - 5s 3ms/step - loss: 0.7438 - acc: 0.6048 - val_loss: 0.5949 - val_acc: 0.6563\n",
            "Epoch 32/50\n",
            "1632/1632 [==============================] - 5s 3ms/step - loss: 0.7316 - acc: 0.6232 - val_loss: 0.5914 - val_acc: 0.6750\n",
            "Epoch 33/50\n",
            "1632/1632 [==============================] - 5s 3ms/step - loss: 0.7437 - acc: 0.6397 - val_loss: 0.5365 - val_acc: 0.7521\n",
            "Epoch 34/50\n",
            "1632/1632 [==============================] - 5s 3ms/step - loss: 0.7142 - acc: 0.6256 - val_loss: 0.5628 - val_acc: 0.7083\n",
            "Epoch 35/50\n",
            "1632/1632 [==============================] - 5s 3ms/step - loss: 0.7342 - acc: 0.6513 - val_loss: 0.5042 - val_acc: 0.7937\n",
            "Epoch 36/50\n",
            "1632/1632 [==============================] - 5s 3ms/step - loss: 0.6884 - acc: 0.6501 - val_loss: 0.5046 - val_acc: 0.7792\n",
            "Epoch 37/50\n",
            "1632/1632 [==============================] - 5s 3ms/step - loss: 0.7201 - acc: 0.6342 - val_loss: 0.6069 - val_acc: 0.6438\n",
            "Epoch 38/50\n",
            "1632/1632 [==============================] - 5s 3ms/step - loss: 0.7029 - acc: 0.6213 - val_loss: 0.5561 - val_acc: 0.7063\n",
            "Epoch 39/50\n",
            "1632/1632 [==============================] - 5s 3ms/step - loss: 0.7022 - acc: 0.6544 - val_loss: 0.5553 - val_acc: 0.7083\n",
            "Epoch 40/50\n",
            "1632/1632 [==============================] - 5s 3ms/step - loss: 0.6772 - acc: 0.6599 - val_loss: 0.4919 - val_acc: 0.7750\n",
            "Epoch 41/50\n",
            "1632/1632 [==============================] - 5s 3ms/step - loss: 0.7024 - acc: 0.6526 - val_loss: 0.5338 - val_acc: 0.7250\n",
            "Epoch 42/50\n",
            "1632/1632 [==============================] - 5s 3ms/step - loss: 0.6942 - acc: 0.6489 - val_loss: 0.6480 - val_acc: 0.6542\n",
            "Epoch 43/50\n",
            "1632/1632 [==============================] - 5s 3ms/step - loss: 0.6683 - acc: 0.6685 - val_loss: 0.5421 - val_acc: 0.7208\n",
            "Epoch 44/50\n",
            "1632/1632 [==============================] - 5s 3ms/step - loss: 0.6792 - acc: 0.6667 - val_loss: 0.4680 - val_acc: 0.8000\n",
            "Epoch 45/50\n",
            "1632/1632 [==============================] - 5s 3ms/step - loss: 0.6900 - acc: 0.6918 - val_loss: 0.5091 - val_acc: 0.7542\n",
            "Epoch 46/50\n",
            "1632/1632 [==============================] - 5s 3ms/step - loss: 0.6262 - acc: 0.6814 - val_loss: 0.5082 - val_acc: 0.7500\n",
            "Epoch 47/50\n",
            "1632/1632 [==============================] - 5s 3ms/step - loss: 0.6453 - acc: 0.6740 - val_loss: 0.4772 - val_acc: 0.8000\n",
            "Epoch 48/50\n",
            "1632/1632 [==============================] - 5s 3ms/step - loss: 0.6273 - acc: 0.6930 - val_loss: 0.5016 - val_acc: 0.7792\n",
            "Epoch 49/50\n",
            "1632/1632 [==============================] - 5s 3ms/step - loss: 0.6358 - acc: 0.7089 - val_loss: 0.4770 - val_acc: 0.8167\n",
            "Epoch 50/50\n",
            "1632/1632 [==============================] - 5s 3ms/step - loss: 0.6375 - acc: 0.7004 - val_loss: 0.4964 - val_acc: 0.7708\n"
          ],
          "name": "stdout"
        },
        {
          "output_type": "execute_result",
          "data": {
            "text/plain": [
              "array([[0],\n",
              "       [0],\n",
              "       [0],\n",
              "       [0],\n",
              "       [0],\n",
              "       [0],\n",
              "       [0],\n",
              "       [1],\n",
              "       [0],\n",
              "       [1],\n",
              "       [1],\n",
              "       [1],\n",
              "       [0],\n",
              "       [1],\n",
              "       [1],\n",
              "       [0],\n",
              "       [1],\n",
              "       [0],\n",
              "       [0],\n",
              "       [0],\n",
              "       [0],\n",
              "       [0],\n",
              "       [0],\n",
              "       [0],\n",
              "       [0],\n",
              "       [0],\n",
              "       [0],\n",
              "       [0],\n",
              "       [0],\n",
              "       [0],\n",
              "       [0],\n",
              "       [0],\n",
              "       [0],\n",
              "       [0],\n",
              "       [0],\n",
              "       [0],\n",
              "       [0],\n",
              "       [0],\n",
              "       [0],\n",
              "       [0],\n",
              "       [0],\n",
              "       [0],\n",
              "       [0],\n",
              "       [0],\n",
              "       [0],\n",
              "       [0],\n",
              "       [0],\n",
              "       [0],\n",
              "       [1],\n",
              "       [1],\n",
              "       [1],\n",
              "       [1],\n",
              "       [1],\n",
              "       [1],\n",
              "       [1],\n",
              "       [1],\n",
              "       [1],\n",
              "       [1],\n",
              "       [1],\n",
              "       [1],\n",
              "       [1],\n",
              "       [1],\n",
              "       [1],\n",
              "       [0],\n",
              "       [1],\n",
              "       [1],\n",
              "       [1],\n",
              "       [1],\n",
              "       [1],\n",
              "       [1],\n",
              "       [0],\n",
              "       [1],\n",
              "       [1],\n",
              "       [0],\n",
              "       [0],\n",
              "       [1],\n",
              "       [1],\n",
              "       [1],\n",
              "       [0],\n",
              "       [0],\n",
              "       [1],\n",
              "       [1],\n",
              "       [1],\n",
              "       [1],\n",
              "       [1],\n",
              "       [1],\n",
              "       [1],\n",
              "       [1],\n",
              "       [1],\n",
              "       [1],\n",
              "       [1],\n",
              "       [1],\n",
              "       [1],\n",
              "       [1],\n",
              "       [1],\n",
              "       [1],\n",
              "       [0],\n",
              "       [0],\n",
              "       [0],\n",
              "       [0],\n",
              "       [0],\n",
              "       [0],\n",
              "       [1],\n",
              "       [0],\n",
              "       [0],\n",
              "       [0],\n",
              "       [0],\n",
              "       [0],\n",
              "       [0],\n",
              "       [0],\n",
              "       [0],\n",
              "       [0],\n",
              "       [0],\n",
              "       [0],\n",
              "       [0],\n",
              "       [0],\n",
              "       [1],\n",
              "       [0],\n",
              "       [0],\n",
              "       [0],\n",
              "       [0],\n",
              "       [0],\n",
              "       [0],\n",
              "       [0],\n",
              "       [0],\n",
              "       [0],\n",
              "       [0],\n",
              "       [0],\n",
              "       [0],\n",
              "       [0],\n",
              "       [0],\n",
              "       [0],\n",
              "       [0],\n",
              "       [0],\n",
              "       [0],\n",
              "       [0],\n",
              "       [0],\n",
              "       [0],\n",
              "       [0],\n",
              "       [0],\n",
              "       [0],\n",
              "       [0],\n",
              "       [1],\n",
              "       [0],\n",
              "       [0],\n",
              "       [0],\n",
              "       [1],\n",
              "       [0],\n",
              "       [0],\n",
              "       [0],\n",
              "       [0],\n",
              "       [0],\n",
              "       [0],\n",
              "       [0],\n",
              "       [1],\n",
              "       [0],\n",
              "       [0],\n",
              "       [1],\n",
              "       [0],\n",
              "       [0],\n",
              "       [0],\n",
              "       [0],\n",
              "       [0],\n",
              "       [0],\n",
              "       [0],\n",
              "       [0],\n",
              "       [1],\n",
              "       [0],\n",
              "       [0],\n",
              "       [0],\n",
              "       [1],\n",
              "       [0],\n",
              "       [1],\n",
              "       [0],\n",
              "       [1],\n",
              "       [0],\n",
              "       [0],\n",
              "       [0],\n",
              "       [1],\n",
              "       [1],\n",
              "       [0],\n",
              "       [0],\n",
              "       [0],\n",
              "       [0],\n",
              "       [0],\n",
              "       [1],\n",
              "       [1],\n",
              "       [0],\n",
              "       [0],\n",
              "       [0],\n",
              "       [0],\n",
              "       [0],\n",
              "       [0],\n",
              "       [1],\n",
              "       [1],\n",
              "       [1],\n",
              "       [1],\n",
              "       [0],\n",
              "       [0],\n",
              "       [1],\n",
              "       [1],\n",
              "       [1],\n",
              "       [1],\n",
              "       [1],\n",
              "       [1],\n",
              "       [1],\n",
              "       [1],\n",
              "       [1],\n",
              "       [1],\n",
              "       [1],\n",
              "       [1],\n",
              "       [1],\n",
              "       [1],\n",
              "       [1],\n",
              "       [1],\n",
              "       [1],\n",
              "       [0],\n",
              "       [1],\n",
              "       [0],\n",
              "       [1],\n",
              "       [0],\n",
              "       [0],\n",
              "       [1],\n",
              "       [1],\n",
              "       [1],\n",
              "       [0],\n",
              "       [0],\n",
              "       [0],\n",
              "       [1],\n",
              "       [0],\n",
              "       [0],\n",
              "       [0],\n",
              "       [0],\n",
              "       [0],\n",
              "       [0],\n",
              "       [0],\n",
              "       [0],\n",
              "       [0],\n",
              "       [0],\n",
              "       [0],\n",
              "       [0],\n",
              "       [0],\n",
              "       [0],\n",
              "       [0],\n",
              "       [0],\n",
              "       [1],\n",
              "       [1],\n",
              "       [0],\n",
              "       [0],\n",
              "       [1],\n",
              "       [0],\n",
              "       [0],\n",
              "       [0],\n",
              "       [1],\n",
              "       [1],\n",
              "       [1],\n",
              "       [1],\n",
              "       [1],\n",
              "       [1],\n",
              "       [1],\n",
              "       [1],\n",
              "       [1],\n",
              "       [0],\n",
              "       [1],\n",
              "       [0],\n",
              "       [1],\n",
              "       [1],\n",
              "       [0],\n",
              "       [1],\n",
              "       [1],\n",
              "       [1],\n",
              "       [1],\n",
              "       [1],\n",
              "       [1],\n",
              "       [1],\n",
              "       [1],\n",
              "       [1],\n",
              "       [1],\n",
              "       [1],\n",
              "       [1],\n",
              "       [1],\n",
              "       [1],\n",
              "       [1],\n",
              "       [1],\n",
              "       [1],\n",
              "       [1],\n",
              "       [1],\n",
              "       [1],\n",
              "       [0],\n",
              "       [0],\n",
              "       [0],\n",
              "       [0],\n",
              "       [0],\n",
              "       [0],\n",
              "       [0],\n",
              "       [0],\n",
              "       [0],\n",
              "       [0],\n",
              "       [0],\n",
              "       [0],\n",
              "       [0],\n",
              "       [0],\n",
              "       [0],\n",
              "       [0],\n",
              "       [0],\n",
              "       [0],\n",
              "       [0],\n",
              "       [0],\n",
              "       [0],\n",
              "       [0],\n",
              "       [0],\n",
              "       [0],\n",
              "       [0],\n",
              "       [0],\n",
              "       [1],\n",
              "       [0],\n",
              "       [0],\n",
              "       [0],\n",
              "       [0],\n",
              "       [0],\n",
              "       [0],\n",
              "       [0],\n",
              "       [0],\n",
              "       [0],\n",
              "       [0],\n",
              "       [0],\n",
              "       [0],\n",
              "       [0],\n",
              "       [0],\n",
              "       [0],\n",
              "       [0],\n",
              "       [0],\n",
              "       [0],\n",
              "       [0],\n",
              "       [0],\n",
              "       [0],\n",
              "       [0],\n",
              "       [0],\n",
              "       [1],\n",
              "       [0],\n",
              "       [0],\n",
              "       [0],\n",
              "       [0],\n",
              "       [0],\n",
              "       [1],\n",
              "       [1],\n",
              "       [1],\n",
              "       [1],\n",
              "       [1],\n",
              "       [1],\n",
              "       [1],\n",
              "       [1],\n",
              "       [0],\n",
              "       [1],\n",
              "       [1],\n",
              "       [0],\n",
              "       [1],\n",
              "       [1],\n",
              "       [1],\n",
              "       [1],\n",
              "       [1],\n",
              "       [1],\n",
              "       [0],\n",
              "       [1],\n",
              "       [1],\n",
              "       [1],\n",
              "       [1],\n",
              "       [1],\n",
              "       [1],\n",
              "       [1],\n",
              "       [1],\n",
              "       [1],\n",
              "       [1],\n",
              "       [1],\n",
              "       [1],\n",
              "       [1],\n",
              "       [1],\n",
              "       [1],\n",
              "       [1],\n",
              "       [1],\n",
              "       [1],\n",
              "       [1],\n",
              "       [0],\n",
              "       [1],\n",
              "       [0],\n",
              "       [0],\n",
              "       [0],\n",
              "       [0],\n",
              "       [0],\n",
              "       [0],\n",
              "       [0],\n",
              "       [0],\n",
              "       [0],\n",
              "       [0],\n",
              "       [0],\n",
              "       [0],\n",
              "       [0],\n",
              "       [0],\n",
              "       [0],\n",
              "       [0],\n",
              "       [0],\n",
              "       [0],\n",
              "       [0],\n",
              "       [0],\n",
              "       [0],\n",
              "       [0],\n",
              "       [0],\n",
              "       [0],\n",
              "       [0],\n",
              "       [0],\n",
              "       [0],\n",
              "       [0],\n",
              "       [0],\n",
              "       [0],\n",
              "       [0],\n",
              "       [0],\n",
              "       [0],\n",
              "       [0],\n",
              "       [0],\n",
              "       [0],\n",
              "       [0],\n",
              "       [0],\n",
              "       [0],\n",
              "       [0],\n",
              "       [0],\n",
              "       [0],\n",
              "       [0],\n",
              "       [0],\n",
              "       [0],\n",
              "       [0],\n",
              "       [0],\n",
              "       [0],\n",
              "       [1],\n",
              "       [1],\n",
              "       [1],\n",
              "       [1],\n",
              "       [1],\n",
              "       [1],\n",
              "       [1],\n",
              "       [1],\n",
              "       [1],\n",
              "       [1],\n",
              "       [1],\n",
              "       [1],\n",
              "       [1],\n",
              "       [0],\n",
              "       [1],\n",
              "       [1],\n",
              "       [0],\n",
              "       [1],\n",
              "       [0],\n",
              "       [0],\n",
              "       [1],\n",
              "       [1],\n",
              "       [1],\n",
              "       [1],\n",
              "       [1],\n",
              "       [1],\n",
              "       [1],\n",
              "       [1],\n",
              "       [0],\n",
              "       [1],\n",
              "       [1],\n",
              "       [1],\n",
              "       [1],\n",
              "       [1],\n",
              "       [1],\n",
              "       [1],\n",
              "       [1],\n",
              "       [1],\n",
              "       [1],\n",
              "       [1],\n",
              "       [1],\n",
              "       [1],\n",
              "       [1],\n",
              "       [1],\n",
              "       [1],\n",
              "       [1],\n",
              "       [1],\n",
              "       [1]], dtype=int32)"
            ]
          },
          "metadata": {
            "tags": []
          },
          "execution_count": 59
        }
      ]
    },
    {
      "cell_type": "code",
      "metadata": {
        "id": "ndI5J_0Eg9Bi",
        "colab_type": "code",
        "outputId": "c2e1992f-0ac6-4279-e8dd-8d6dc5b5d945",
        "colab": {
          "base_uri": "https://localhost:8080/",
          "height": 68
        }
      },
      "source": [
        "from sklearn.metrics import confusion_matrix\n",
        "from sklearn.metrics import roc_curve, roc_auc_score, f1_score\n",
        "from sklearn.metrics import accuracy_score\n",
        "from sklearn import metrics\n",
        "\n",
        "pred_rnn = model.predict_classes(x_shaped_test)\n",
        "y_score_10 = model.predict_proba(x_shaped_test)\n",
        "acc10 = accuracy_score(y_shaped_test, pred_rnn)\n",
        "f1_score_10 = metrics.f1_score(y_shaped_test, np.array(pred_rnn))\n",
        "roc_10 = metrics.roc_auc_score(y_shaped_test, y_score_10)\n",
        "print([acc10, f1_score_10, roc_10])\n",
        "print(confusion_matrix(y_shaped_test, pred_rnn))"
      ],
      "execution_count": 0,
      "outputs": [
        {
          "output_type": "stream",
          "text": [
            "[0.7708333333333334, 0.7533632286995516, 0.8585590277777778]\n",
            "[[202  38]\n",
            " [ 72 168]]\n"
          ],
          "name": "stdout"
        }
      ]
    },
    {
      "cell_type": "code",
      "metadata": {
        "id": "XbLVuy9ljvPH",
        "colab_type": "code",
        "outputId": "44a8d357-e5c2-47a2-a2e1-3ed4edb97869",
        "colab": {
          "base_uri": "https://localhost:8080/",
          "height": 530
        }
      },
      "source": [
        "import matplotlib.pyplot as plt\n",
        "plt.figure(figsize=(8,8))\n",
        "plt.plot([0, 1], [0, 1],'r--')\n",
        "fpr, tpr, thresholds = roc_curve(y_shaped_test, y_score_10)\n",
        "plt.plot(fpr, tpr, label= 'ROC curve (area = %0.2f)' % roc_10)\n",
        "plt.title('ROC Curve for LSTM')\n",
        "plt.xlabel('False Positive Rate')\n",
        "plt.ylabel('True Positive Rate')\n",
        "plt.legend()"
      ],
      "execution_count": 0,
      "outputs": [
        {
          "output_type": "execute_result",
          "data": {
            "text/plain": [
              "<matplotlib.legend.Legend at 0x7f46944e3320>"
            ]
          },
          "metadata": {
            "tags": []
          },
          "execution_count": 70
        },
        {
          "output_type": "display_data",
          "data": {
            "image/png": "[encoded data removed]",
            "text/plain": [
              "<Figure size 576x576 with 1 Axes>"
            ]
          },
          "metadata": {
            "tags": []
          }
        }
      ]
    },
    {
      "cell_type": "code",
      "metadata": {
        "id": "FkwvvzcBj989",
        "colab_type": "code",
        "outputId": "49a67759-ba65-40e2-e07b-c1992e9a43d7",
        "colab": {
          "base_uri": "https://localhost:8080/",
          "height": 500
        }
      },
      "source": [
        "from sklearn.calibration import calibration_curve\n",
        "plt.figure(figsize=(8,8))\n",
        "plt.plot([0, 1], [0, 1], \"k:\", label=\"Perfectly calibrated\")\n",
        "fraction_of_positives, mean_predicted_value=calibration_curve(y_shaped_test,y_score_10,n_bins=10)\n",
        "plt.plot(mean_predicted_value, fraction_of_positives,\"s-\",\n",
        "                 label=\"%s\" % 'LSTM')"
      ],
      "execution_count": 0,
      "outputs": [
        {
          "output_type": "execute_result",
          "data": {
            "text/plain": [
              "[<matplotlib.lines.Line2D at 0x7f4692a5f860>]"
            ]
          },
          "metadata": {
            "tags": []
          },
          "execution_count": 65
        },
        {
          "output_type": "display_data",
          "data": {
            "image/png": "[encoded data removed]",
            "text/plain": [
              "<Figure size 576x576 with 1 Axes>"
            ]
          },
          "metadata": {
            "tags": []
          }
        }
      ]
    }
  ]
}