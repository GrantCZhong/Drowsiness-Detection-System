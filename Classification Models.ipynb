{
  "nbformat": 4,
  "nbformat_minor": 0,
  "metadata": {
    "colab": {
      "name": "predictive_modeling_AAS.ipynb",
      "provenance": [],
      "collapsed_sections": []
    },
    "kernelspec": {
      "display_name": "Python 3",
      "language": "python",
      "name": "python3"
    },
    "language_info": {
      "codemirror_mode": {
        "name": "ipython",
        "version": 3
      },
      "file_extension": ".py",
      "mimetype": "text/x-python",
      "name": "python",
      "nbconvert_exporter": "python",
      "pygments_lexer": "ipython3",
      "version": "3.7.3"
    }
  },
  "cells": [
    {
      "cell_type": "code",
      "metadata": {
        "colab_type": "code",
        "id": "FQ_rmzq1k67s",
        "colab": {}
      },
      "source": [
        "from sklearn.base import BaseEstimator, TransformerMixin\n",
        "import pandas as pd\n",
        "from sklearn.model_selection import train_test_split\n",
        "from sklearn.metrics import roc_curve, roc_auc_score, f1_score\n",
        "from sklearn.naive_bayes import GaussianNB\n",
        "from sklearn.linear_model import LogisticRegression\n",
        "from sklearn.neural_network import MLPClassifier\n",
        "from sklearn.naive_bayes import BernoulliNB\n",
        "from sklearn.tree import DecisionTreeClassifier\n",
        "import numpy as np\n",
        "import matplotlib.pyplot as plt\n",
        "import seaborn as sns\n",
        "from sklearn.pipeline import Pipeline, FeatureUnion\n",
        "from sklearn.metrics import accuracy_score\n",
        "from sklearn.metrics import confusion_matrix\n",
        "from sklearn import metrics\n",
        "import warnings"
      ],
      "execution_count": 0,
      "outputs": []
    },
    {
      "cell_type": "code",
      "metadata": {
        "id": "kcvU6yyb5yXT",
        "colab_type": "code",
        "outputId": "8fad771a-995b-4574-94bb-28d4e267b1de",
        "colab": {
          "base_uri": "https://localhost:8080/",
          "height": 123
        }
      },
      "source": [
        "from google.colab import drive\n",
        "drive.mount('/content/drive')"
      ],
      "execution_count": 2,
      "outputs": [
        {
          "output_type": "stream",
          "text": [
            "Go to this URL in a browser: https://accounts.google.com/o/oauth2/auth?client_id=947318989803-6bn6qk8qdgf4n4g3pfee6491hc0brc4i.apps.googleusercontent.com&redirect_uri=urn%3aietf%3awg%3aoauth%3a2.0%3aoob&response_type=code&scope=email%20https%3a%2f%2fwww.googleapis.com%2fauth%2fdocs.test%20https%3a%2f%2fwww.googleapis.com%2fauth%2fdrive%20https%3a%2f%2fwww.googleapis.com%2fauth%2fdrive.photos.readonly%20https%3a%2f%2fwww.googleapis.com%2fauth%2fpeopleapi.readonly\n",
            "\n",
            "Enter your authorization code:\n",
            "··········\n",
            "Mounted at /content/drive\n"
          ],
          "name": "stdout"
        }
      ]
    },
    {
      "cell_type": "code",
      "metadata": {
        "id": "X6nn-VZm53wh",
        "colab_type": "code",
        "colab": {}
      },
      "source": [
        "df = pd.read_csv('drive/My Drive/Fall APM Project/totalwithmaininfo.csv',sep=',')\n",
        "df = df.drop(df.columns[0],axis=1)"
      ],
      "execution_count": 0,
      "outputs": []
    },
    {
      "cell_type": "code",
      "metadata": {
        "colab_type": "code",
        "id": "bpyy8mYFk67z",
        "colab": {}
      },
      "source": [
        "#y = df['Y'].values\n",
        "#X = df.drop(['Y'], axis = 1)\n",
        "#X_train, X_test, y_train, y_test = train_test_split(X,y,test_size = 0.20, random_state=30)"
      ],
      "execution_count": 0,
      "outputs": []
    },
    {
      "cell_type": "code",
      "metadata": {
        "id": "RwTdGfho5qNC",
        "colab_type": "code",
        "colab": {}
      },
      "source": [
        "train_percentage = 17/22\n",
        "train_index = int(len(df)*train_percentage)\n",
        "test_index = len(df)-train_index"
      ],
      "execution_count": 0,
      "outputs": []
    },
    {
      "cell_type": "code",
      "metadata": {
        "colab_type": "code",
        "id": "vgLHIsFdllrg",
        "colab": {}
      },
      "source": [
        "df_train = df[:train_index]\n",
        "df_test = df[-test_index:]"
      ],
      "execution_count": 0,
      "outputs": []
    },
    {
      "cell_type": "code",
      "metadata": {
        "colab_type": "code",
        "id": "ViNHshJtlqmB",
        "colab": {}
      },
      "source": [
        "X_test = df_test.drop([\"Y\"],axis=1)\n",
        "y_test = df_test[\"Y\"]"
      ],
      "execution_count": 0,
      "outputs": []
    },
    {
      "cell_type": "code",
      "metadata": {
        "colab_type": "code",
        "id": "DS5o7YbLlqrx",
        "colab": {}
      },
      "source": [
        "X_train = df_train.drop('Y',axis=1)\n",
        "y_train = df_train['Y']"
      ],
      "execution_count": 0,
      "outputs": []
    },
    {
      "cell_type": "code",
      "metadata": {
        "colab_type": "code",
        "id": "4RtXa3y3cKcK",
        "colab": {}
      },
      "source": [
        "def average(y_pred):\n",
        "  for i in range(len(y_pred)):\n",
        "    if i % 240 == 0 or (i+1) % 240 == 0:\n",
        "      pass\n",
        "    else: \n",
        "      average = float(y_pred[i-1] +  y_pred[i] + y_pred[i+1])/3\n",
        "      if average >= 0.5:\n",
        "        y_pred[i] = 1\n",
        "      else:\n",
        "        y_pred[i] = 0\n",
        "  return y_pred"
      ],
      "execution_count": 0,
      "outputs": []
    },
    {
      "cell_type": "markdown",
      "metadata": {
        "colab_type": "text",
        "id": "jskxKkq4k675"
      },
      "source": [
        "## 1. Logistic Regression"
      ]
    },
    {
      "cell_type": "code",
      "metadata": {
        "colab_type": "code",
        "id": "GiTRhtZzk677",
        "outputId": "c3877614-a6cc-40ee-c9c4-8cb991b0aa6c",
        "colab": {
          "base_uri": "https://localhost:8080/",
          "height": 123
        }
      },
      "source": [
        "clf = LogisticRegression().fit(X_train, y_train)\n",
        "y_pred_1 = clf.predict(X_test)\n",
        "y_pred_1 = average(y_pred_1)\n",
        "y_score_1 = clf.predict_proba(X_test)[:,1]\n",
        "acc1 = accuracy_score(y_test, y_pred_1)\n",
        "f1_score_1 = metrics.f1_score(y_test, y_pred_1)\n",
        "roc_1 = metrics.roc_auc_score(y_test, y_score_1)\n",
        "print([acc1,f1_score_1,roc_1])\n",
        "print(confusion_matrix(y_test, y_pred_1))"
      ],
      "execution_count": 0,
      "outputs": [
        {
          "output_type": "stream",
          "text": [
            "[0.6433333333333333, 0.46433041301627026, 0.7029777777777777]\n",
            "[[1173   27]\n",
            " [ 829  371]]\n"
          ],
          "name": "stdout"
        },
        {
          "output_type": "stream",
          "text": [
            "/usr/local/lib/python3.6/dist-packages/sklearn/linear_model/logistic.py:432: FutureWarning: Default solver will be changed to 'lbfgs' in 0.22. Specify a solver to silence this warning.\n",
            "  FutureWarning)\n"
          ],
          "name": "stderr"
        }
      ]
    },
    {
      "cell_type": "markdown",
      "metadata": {
        "colab_type": "text",
        "id": "NixT9PWxk68C"
      },
      "source": [
        "## 2. Naive Bayes"
      ]
    },
    {
      "cell_type": "code",
      "metadata": {
        "colab_type": "code",
        "id": "nFP2tCt1k68E",
        "outputId": "09298598-aa4f-4f58-b2c3-bd3c65a221c8",
        "colab": {
          "base_uri": "https://localhost:8080/",
          "height": 68
        }
      },
      "source": [
        "clf_NB = GaussianNB()\n",
        "clf_NB.fit(X_train, y_train)\n",
        "pred_NB = clf_NB.predict(X_test)\n",
        "pred_NB = average(pred_NB)\n",
        "y_score_2 = clf_NB.predict_proba(X_test)[:,1]\n",
        "acc2 = accuracy_score(y_test, pred_NB)\n",
        "f1_score_2 = metrics.f1_score(y_test, pred_NB)\n",
        "roc_2 = metrics.roc_auc_score(y_test, y_score_2)\n",
        "print([acc2,f1_score_2,roc_2])\n",
        "print(confusion_matrix(y_test, pred_NB))"
      ],
      "execution_count": 0,
      "outputs": [
        {
          "output_type": "stream",
          "text": [
            "[0.5775, 0.2838983050847458, 0.7339368055555555]\n",
            "[[1185   15]\n",
            " [ 999  201]]\n"
          ],
          "name": "stdout"
        }
      ]
    },
    {
      "cell_type": "markdown",
      "metadata": {
        "colab_type": "text",
        "id": "OHZ-CCtjk68K"
      },
      "source": [
        "## 3. KNN"
      ]
    },
    {
      "cell_type": "code",
      "metadata": {
        "colab_type": "code",
        "id": "gREWQVD8k68M",
        "colab": {}
      },
      "source": [
        "acc3_list = []\n",
        "f1_score3_list = []\n",
        "roc_3_list = []\n",
        "from sklearn.neighbors import KNeighborsClassifier\n",
        "for i in range(1,30):\n",
        "    neigh = KNeighborsClassifier(n_neighbors=i)\n",
        "    neigh.fit(X_train, y_train) \n",
        "    pred_KN = neigh.predict(X_test)\n",
        "    pred_KN = average(pred_KN)\n",
        "    y_score_3 = neigh.predict_proba(X_test)[:,1]\n",
        "    acc3_list.append(accuracy_score(y_test, pred_KN))\n",
        "    f1_score3_list.append(metrics.f1_score(y_test, pred_KN))\n",
        "    roc_3_list.append(metrics.roc_auc_score(y_test, y_score_3))"
      ],
      "execution_count": 0,
      "outputs": []
    },
    {
      "cell_type": "code",
      "metadata": {
        "id": "973AlOEAEQ7r",
        "colab_type": "code",
        "outputId": "77179901-5c49-4f52-d698-8126b7a15192",
        "colab": {
          "base_uri": "https://localhost:8080/",
          "height": 34
        }
      },
      "source": [
        "acc3_list.index(max(acc3_list))+1"
      ],
      "execution_count": 0,
      "outputs": [
        {
          "output_type": "execute_result",
          "data": {
            "text/plain": [
              "25"
            ]
          },
          "metadata": {
            "tags": []
          },
          "execution_count": 12
        }
      ]
    },
    {
      "cell_type": "code",
      "metadata": {
        "colab_type": "code",
        "id": "Fg8tGkxK3sWb",
        "outputId": "3990863e-ad70-41ee-a84e-1cc1ae3be6be",
        "colab": {
          "base_uri": "https://localhost:8080/",
          "height": 68
        }
      },
      "source": [
        "neigh = KNeighborsClassifier(n_neighbors=acc3_list.index(max(acc3_list))+1)\n",
        "neigh.fit(X_train, y_train) \n",
        "pred_KN = neigh.predict(X_test)\n",
        "pred_KN = average(pred_KN)\n",
        "y_score_3 = neigh.predict_proba(X_test)[:,1]\n",
        "acc3 = accuracy_score(y_test, pred_KN)\n",
        "f1_score_3 = metrics.f1_score(y_test, pred_KN)\n",
        "roc_3 = metrics.roc_auc_score(y_test, y_score_3)\n",
        "print([acc3,f1_score_3,roc_3])\n",
        "print(confusion_matrix(y_test, pred_KN))"
      ],
      "execution_count": 0,
      "outputs": [
        {
          "output_type": "stream",
          "text": [
            "[0.7720833333333333, 0.7554760840411264, 0.7828010416666668]\n",
            "[[1008  192]\n",
            " [ 355  845]]\n"
          ],
          "name": "stdout"
        }
      ]
    },
    {
      "cell_type": "markdown",
      "metadata": {
        "colab_type": "text",
        "id": "k5fK235xk68T"
      },
      "source": [
        "## 4. MLP"
      ]
    },
    {
      "cell_type": "code",
      "metadata": {
        "colab_type": "code",
        "id": "is1RmvuIk68V",
        "outputId": "361cd2d1-957d-4fac-b852-463d28138c09",
        "colab": {
          "base_uri": "https://localhost:8080/",
          "height": 1000
        }
      },
      "source": [
        "from sklearn.neural_network import MLPClassifier\n",
        "\n",
        "F1_score_4_list = []\n",
        "acc4_list = []\n",
        "roc_4_list = []\n",
        "mlp = []\n",
        "\n",
        "hidden_units = [10,20,30,40,50,60,70]\n",
        "optimizer = ['sgd','adam','lbfgs']\n",
        "activation = ['logistic','tanh','relu']\n",
        "for j in activation:\n",
        "    for i in optimizer:\n",
        "        for k in hidden_units:\n",
        "              clf_MLP = MLPClassifier(hidden_layer_sizes= k, activation =  j, solver= i)\n",
        "              clf_MLP.fit(X_train, y_train)\n",
        "              pred_MLP = clf_MLP.predict(X_test)\n",
        "              pred_MLP = average(pred_MLP)\n",
        "              y_score_4 = clf_MLP.predict_proba(X_test)[:,1]\n",
        "              acc4_list.append(accuracy_score(y_test,pred_MLP))\n",
        "              roc_4_list.append(metrics.roc_auc_score(y_test, y_score_4))\n",
        "              F1_score_4_list.append(metrics.f1_score(y_test, pred_MLP))\n",
        "              mlp.append([j,i,k])"
      ],
      "execution_count": 0,
      "outputs": [
        {
          "output_type": "stream",
          "text": [
            "/usr/local/lib/python3.6/dist-packages/sklearn/neural_network/multilayer_perceptron.py:568: UserWarning: Training interrupted by user.\n",
            "  warnings.warn(\"Training interrupted by user.\")\n",
            "/usr/local/lib/python3.6/dist-packages/sklearn/neural_network/multilayer_perceptron.py:566: ConvergenceWarning: Stochastic Optimizer: Maximum iterations (200) reached and the optimization hasn't converged yet.\n",
            "  % self.max_iter, ConvergenceWarning)\n",
            "/usr/local/lib/python3.6/dist-packages/sklearn/neural_network/multilayer_perceptron.py:566: ConvergenceWarning: Stochastic Optimizer: Maximum iterations (200) reached and the optimization hasn't converged yet.\n",
            "  % self.max_iter, ConvergenceWarning)\n",
            "/usr/local/lib/python3.6/dist-packages/sklearn/neural_network/multilayer_perceptron.py:566: ConvergenceWarning: Stochastic Optimizer: Maximum iterations (200) reached and the optimization hasn't converged yet.\n",
            "  % self.max_iter, ConvergenceWarning)\n",
            "/usr/local/lib/python3.6/dist-packages/sklearn/neural_network/multilayer_perceptron.py:566: ConvergenceWarning: Stochastic Optimizer: Maximum iterations (200) reached and the optimization hasn't converged yet.\n",
            "  % self.max_iter, ConvergenceWarning)\n",
            "/usr/local/lib/python3.6/dist-packages/sklearn/neural_network/multilayer_perceptron.py:566: ConvergenceWarning: Stochastic Optimizer: Maximum iterations (200) reached and the optimization hasn't converged yet.\n",
            "  % self.max_iter, ConvergenceWarning)\n",
            "/usr/local/lib/python3.6/dist-packages/sklearn/neural_network/multilayer_perceptron.py:566: ConvergenceWarning: Stochastic Optimizer: Maximum iterations (200) reached and the optimization hasn't converged yet.\n",
            "  % self.max_iter, ConvergenceWarning)\n",
            "/usr/local/lib/python3.6/dist-packages/sklearn/neural_network/multilayer_perceptron.py:566: ConvergenceWarning: Stochastic Optimizer: Maximum iterations (200) reached and the optimization hasn't converged yet.\n",
            "  % self.max_iter, ConvergenceWarning)\n",
            "/usr/local/lib/python3.6/dist-packages/sklearn/neural_network/multilayer_perceptron.py:566: ConvergenceWarning: Stochastic Optimizer: Maximum iterations (200) reached and the optimization hasn't converged yet.\n",
            "  % self.max_iter, ConvergenceWarning)\n",
            "/usr/local/lib/python3.6/dist-packages/sklearn/neural_network/multilayer_perceptron.py:566: ConvergenceWarning: Stochastic Optimizer: Maximum iterations (200) reached and the optimization hasn't converged yet.\n",
            "  % self.max_iter, ConvergenceWarning)\n",
            "/usr/local/lib/python3.6/dist-packages/sklearn/neural_network/multilayer_perceptron.py:566: ConvergenceWarning: Stochastic Optimizer: Maximum iterations (200) reached and the optimization hasn't converged yet.\n",
            "  % self.max_iter, ConvergenceWarning)\n",
            "/usr/local/lib/python3.6/dist-packages/sklearn/neural_network/multilayer_perceptron.py:566: ConvergenceWarning: Stochastic Optimizer: Maximum iterations (200) reached and the optimization hasn't converged yet.\n",
            "  % self.max_iter, ConvergenceWarning)\n",
            "/usr/local/lib/python3.6/dist-packages/sklearn/neural_network/multilayer_perceptron.py:566: ConvergenceWarning: Stochastic Optimizer: Maximum iterations (200) reached and the optimization hasn't converged yet.\n",
            "  % self.max_iter, ConvergenceWarning)\n",
            "/usr/local/lib/python3.6/dist-packages/sklearn/neural_network/multilayer_perceptron.py:566: ConvergenceWarning: Stochastic Optimizer: Maximum iterations (200) reached and the optimization hasn't converged yet.\n",
            "  % self.max_iter, ConvergenceWarning)\n",
            "/usr/local/lib/python3.6/dist-packages/sklearn/neural_network/multilayer_perceptron.py:566: ConvergenceWarning: Stochastic Optimizer: Maximum iterations (200) reached and the optimization hasn't converged yet.\n",
            "  % self.max_iter, ConvergenceWarning)\n",
            "/usr/local/lib/python3.6/dist-packages/sklearn/neural_network/multilayer_perceptron.py:566: ConvergenceWarning: Stochastic Optimizer: Maximum iterations (200) reached and the optimization hasn't converged yet.\n",
            "  % self.max_iter, ConvergenceWarning)\n",
            "/usr/local/lib/python3.6/dist-packages/sklearn/neural_network/multilayer_perceptron.py:566: ConvergenceWarning: Stochastic Optimizer: Maximum iterations (200) reached and the optimization hasn't converged yet.\n",
            "  % self.max_iter, ConvergenceWarning)\n",
            "/usr/local/lib/python3.6/dist-packages/sklearn/neural_network/multilayer_perceptron.py:566: ConvergenceWarning: Stochastic Optimizer: Maximum iterations (200) reached and the optimization hasn't converged yet.\n",
            "  % self.max_iter, ConvergenceWarning)\n",
            "/usr/local/lib/python3.6/dist-packages/sklearn/neural_network/multilayer_perceptron.py:566: ConvergenceWarning: Stochastic Optimizer: Maximum iterations (200) reached and the optimization hasn't converged yet.\n",
            "  % self.max_iter, ConvergenceWarning)\n",
            "/usr/local/lib/python3.6/dist-packages/sklearn/neural_network/multilayer_perceptron.py:566: ConvergenceWarning: Stochastic Optimizer: Maximum iterations (200) reached and the optimization hasn't converged yet.\n",
            "  % self.max_iter, ConvergenceWarning)\n",
            "/usr/local/lib/python3.6/dist-packages/sklearn/neural_network/multilayer_perceptron.py:566: ConvergenceWarning: Stochastic Optimizer: Maximum iterations (200) reached and the optimization hasn't converged yet.\n",
            "  % self.max_iter, ConvergenceWarning)\n",
            "/usr/local/lib/python3.6/dist-packages/sklearn/neural_network/multilayer_perceptron.py:566: ConvergenceWarning: Stochastic Optimizer: Maximum iterations (200) reached and the optimization hasn't converged yet.\n",
            "  % self.max_iter, ConvergenceWarning)\n",
            "/usr/local/lib/python3.6/dist-packages/sklearn/neural_network/multilayer_perceptron.py:566: ConvergenceWarning: Stochastic Optimizer: Maximum iterations (200) reached and the optimization hasn't converged yet.\n",
            "  % self.max_iter, ConvergenceWarning)\n",
            "/usr/local/lib/python3.6/dist-packages/sklearn/neural_network/multilayer_perceptron.py:566: ConvergenceWarning: Stochastic Optimizer: Maximum iterations (200) reached and the optimization hasn't converged yet.\n",
            "  % self.max_iter, ConvergenceWarning)\n",
            "/usr/local/lib/python3.6/dist-packages/sklearn/neural_network/multilayer_perceptron.py:566: ConvergenceWarning: Stochastic Optimizer: Maximum iterations (200) reached and the optimization hasn't converged yet.\n",
            "  % self.max_iter, ConvergenceWarning)\n",
            "/usr/local/lib/python3.6/dist-packages/sklearn/neural_network/multilayer_perceptron.py:566: ConvergenceWarning: Stochastic Optimizer: Maximum iterations (200) reached and the optimization hasn't converged yet.\n",
            "  % self.max_iter, ConvergenceWarning)\n",
            "/usr/local/lib/python3.6/dist-packages/sklearn/neural_network/multilayer_perceptron.py:566: ConvergenceWarning: Stochastic Optimizer: Maximum iterations (200) reached and the optimization hasn't converged yet.\n",
            "  % self.max_iter, ConvergenceWarning)\n",
            "/usr/local/lib/python3.6/dist-packages/sklearn/neural_network/multilayer_perceptron.py:566: ConvergenceWarning: Stochastic Optimizer: Maximum iterations (200) reached and the optimization hasn't converged yet.\n",
            "  % self.max_iter, ConvergenceWarning)\n",
            "/usr/local/lib/python3.6/dist-packages/sklearn/neural_network/multilayer_perceptron.py:566: ConvergenceWarning: Stochastic Optimizer: Maximum iterations (200) reached and the optimization hasn't converged yet.\n",
            "  % self.max_iter, ConvergenceWarning)\n",
            "/usr/local/lib/python3.6/dist-packages/sklearn/neural_network/multilayer_perceptron.py:566: ConvergenceWarning: Stochastic Optimizer: Maximum iterations (200) reached and the optimization hasn't converged yet.\n",
            "  % self.max_iter, ConvergenceWarning)\n",
            "/usr/local/lib/python3.6/dist-packages/sklearn/neural_network/multilayer_perceptron.py:566: ConvergenceWarning: Stochastic Optimizer: Maximum iterations (200) reached and the optimization hasn't converged yet.\n",
            "  % self.max_iter, ConvergenceWarning)\n",
            "/usr/local/lib/python3.6/dist-packages/sklearn/neural_network/multilayer_perceptron.py:566: ConvergenceWarning: Stochastic Optimizer: Maximum iterations (200) reached and the optimization hasn't converged yet.\n",
            "  % self.max_iter, ConvergenceWarning)\n",
            "/usr/local/lib/python3.6/dist-packages/sklearn/neural_network/multilayer_perceptron.py:566: ConvergenceWarning: Stochastic Optimizer: Maximum iterations (200) reached and the optimization hasn't converged yet.\n",
            "  % self.max_iter, ConvergenceWarning)\n",
            "/usr/local/lib/python3.6/dist-packages/sklearn/neural_network/multilayer_perceptron.py:566: ConvergenceWarning: Stochastic Optimizer: Maximum iterations (200) reached and the optimization hasn't converged yet.\n",
            "  % self.max_iter, ConvergenceWarning)\n",
            "/usr/local/lib/python3.6/dist-packages/sklearn/neural_network/multilayer_perceptron.py:566: ConvergenceWarning: Stochastic Optimizer: Maximum iterations (200) reached and the optimization hasn't converged yet.\n",
            "  % self.max_iter, ConvergenceWarning)\n",
            "/usr/local/lib/python3.6/dist-packages/sklearn/neural_network/multilayer_perceptron.py:566: ConvergenceWarning: Stochastic Optimizer: Maximum iterations (200) reached and the optimization hasn't converged yet.\n",
            "  % self.max_iter, ConvergenceWarning)\n",
            "/usr/local/lib/python3.6/dist-packages/sklearn/neural_network/multilayer_perceptron.py:566: ConvergenceWarning: Stochastic Optimizer: Maximum iterations (200) reached and the optimization hasn't converged yet.\n",
            "  % self.max_iter, ConvergenceWarning)\n",
            "/usr/local/lib/python3.6/dist-packages/sklearn/neural_network/multilayer_perceptron.py:566: ConvergenceWarning: Stochastic Optimizer: Maximum iterations (200) reached and the optimization hasn't converged yet.\n",
            "  % self.max_iter, ConvergenceWarning)\n",
            "/usr/local/lib/python3.6/dist-packages/sklearn/neural_network/multilayer_perceptron.py:566: ConvergenceWarning: Stochastic Optimizer: Maximum iterations (200) reached and the optimization hasn't converged yet.\n",
            "  % self.max_iter, ConvergenceWarning)\n",
            "/usr/local/lib/python3.6/dist-packages/sklearn/neural_network/multilayer_perceptron.py:566: ConvergenceWarning: Stochastic Optimizer: Maximum iterations (200) reached and the optimization hasn't converged yet.\n",
            "  % self.max_iter, ConvergenceWarning)\n"
          ],
          "name": "stderr"
        }
      ]
    },
    {
      "cell_type": "code",
      "metadata": {
        "colab_type": "code",
        "id": "ImtrNfvP56BA",
        "outputId": "ef9efba1-c47f-4223-8a46-1a201b9fab63",
        "colab": {
          "base_uri": "https://localhost:8080/",
          "height": 51
        }
      },
      "source": [
        "print(\"Best Accuracy: \", max(acc4_list))\n",
        "min_index = acc4_list.index(max(acc4_list))\n",
        "print(\"Best Combination:\", mlp[min_index])"
      ],
      "execution_count": 0,
      "outputs": [
        {
          "output_type": "stream",
          "text": [
            "Best Accuracy:  0.7633333333333333\n",
            "Best Combination: ['logistic', 'sgd', 30]\n"
          ],
          "name": "stdout"
        }
      ]
    },
    {
      "cell_type": "code",
      "metadata": {
        "colab_type": "code",
        "id": "jGLdxNRj4o2s",
        "outputId": "6a3150d5-bc48-491e-be9e-8ed16a18de62",
        "colab": {
          "base_uri": "https://localhost:8080/",
          "height": 123
        }
      },
      "source": [
        "clf_MLP = MLPClassifier(hidden_layer_sizes= mlp[min_index][2], activation =  mlp[min_index][0], solver= mlp[min_index][1])\n",
        "clf_MLP.fit(X_train, y_train)\n",
        "pred_MLP = clf_MLP.predict(X_test)\n",
        "pred_MLP = average(pred_MLP)\n",
        "y_score_4 = clf_MLP.predict_proba(X_test)[:,1]\n",
        "acc4 = accuracy_score(y_test,pred_MLP)\n",
        "f1_score_4 = metrics.f1_score(y_test, pred_MLP)\n",
        "roc_4 = metrics.roc_auc_score(y_test, y_score_4)\n",
        "print([acc4,f1_score_4,roc_4])\n",
        "print(confusion_matrix(y_test, pred_MLP))"
      ],
      "execution_count": 0,
      "outputs": [
        {
          "output_type": "stream",
          "text": [
            "[0.7558333333333334, 0.7566445182724252, 0.7667625]\n",
            "[[903 297]\n",
            " [289 911]]\n"
          ],
          "name": "stdout"
        },
        {
          "output_type": "stream",
          "text": [
            "/usr/local/lib/python3.6/dist-packages/sklearn/neural_network/multilayer_perceptron.py:566: ConvergenceWarning: Stochastic Optimizer: Maximum iterations (200) reached and the optimization hasn't converged yet.\n",
            "  % self.max_iter, ConvergenceWarning)\n"
          ],
          "name": "stderr"
        }
      ]
    },
    {
      "cell_type": "markdown",
      "metadata": {
        "colab_type": "text",
        "id": "Kn7vFHlNk68b"
      },
      "source": [
        "## 5. Decision Tree"
      ]
    },
    {
      "cell_type": "code",
      "metadata": {
        "colab_type": "code",
        "id": "1kJSJ3V4k68d",
        "outputId": "7bb1950e-8083-4663-9ead-cac79cbb3af6",
        "colab": {
          "base_uri": "https://localhost:8080/",
          "height": 34
        }
      },
      "source": [
        "from sklearn.tree import DecisionTreeClassifier\n",
        "acc5=[]\n",
        "max_depth = []\n",
        "for i in [2,3,4,5,6,7,8,9,10]:\n",
        "    clf_DT = DecisionTreeClassifier(random_state=0, max_depth = i)\n",
        "    clf_DT.fit(X_train, y_train)\n",
        "    pred_DT = clf_DT.predict(X_test)\n",
        "    pred_DT = average(pred_DT)\n",
        "    acc5.append(accuracy_score(pred_DT, y_test))\n",
        "    max_depth.append(i)\n",
        "print (max(acc5))"
      ],
      "execution_count": 0,
      "outputs": [
        {
          "output_type": "stream",
          "text": [
            "0.7504166666666666\n"
          ],
          "name": "stdout"
        }
      ]
    },
    {
      "cell_type": "code",
      "metadata": {
        "colab_type": "code",
        "id": "xCMzl0MH_TvR",
        "colab": {}
      },
      "source": [
        " best_depth = max_depth[acc5.index(max(acc5))]"
      ],
      "execution_count": 0,
      "outputs": []
    },
    {
      "cell_type": "code",
      "metadata": {
        "id": "miGWdN2wF1yr",
        "colab_type": "code",
        "outputId": "73a3d4d2-7cde-40ab-ae6b-d0dbcd919380",
        "colab": {
          "base_uri": "https://localhost:8080/",
          "height": 34
        }
      },
      "source": [
        " best_depth"
      ],
      "execution_count": 0,
      "outputs": [
        {
          "output_type": "execute_result",
          "data": {
            "text/plain": [
              "6"
            ]
          },
          "metadata": {
            "tags": []
          },
          "execution_count": 22
        }
      ]
    },
    {
      "cell_type": "code",
      "metadata": {
        "colab_type": "code",
        "id": "U1sfwzNN8Snd",
        "outputId": "532e7647-7bfa-40c1-8b2e-cef6997fbae4",
        "colab": {
          "base_uri": "https://localhost:8080/",
          "height": 68
        }
      },
      "source": [
        "clf_DT = DecisionTreeClassifier(random_state=0, max_depth = best_depth)\n",
        "clf_DT.fit(X_train, y_train)\n",
        "pred_DT = clf_DT.predict(X_test)\n",
        "pred_DT = average(pred_DT)\n",
        "y_score_5 = clf_DT.predict_proba(X_test)[:,1]\n",
        "acc5 = accuracy_score(y_test, pred_DT)\n",
        "f1_score_5 = metrics.f1_score(y_test, pred_DT)\n",
        "roc_5 = metrics.roc_auc_score(y_test, y_score_5)\n",
        "print([acc5,f1_score_5,roc_5])\n",
        "print(confusion_matrix(y_test, pred_DT))"
      ],
      "execution_count": 0,
      "outputs": [
        {
          "output_type": "stream",
          "text": [
            "[0.7504166666666666, 0.7410289667099005, 0.7611229166666666]\n",
            "[[944 256]\n",
            " [343 857]]\n"
          ],
          "name": "stdout"
        }
      ]
    },
    {
      "cell_type": "markdown",
      "metadata": {
        "colab_type": "text",
        "id": "PG7poh8Kk68j"
      },
      "source": [
        "## 6. Random Forest"
      ]
    },
    {
      "cell_type": "code",
      "metadata": {
        "colab_type": "code",
        "id": "k7_ztnWek68m",
        "outputId": "cfe8bd6c-8e1e-4af2-a2b6-874b297fd223",
        "colab": {
          "base_uri": "https://localhost:8080/",
          "height": 363
        }
      },
      "source": [
        "from sklearn.ensemble import RandomForestClassifier\n",
        "acc6=[]\n",
        "max_depth = []\n",
        "for i in range(1,10):\n",
        "    clf_RF = RandomForestClassifier(max_depth=i)\n",
        "    clf_RF.fit(X_train, y_train) \n",
        "    pred_RF = clf_RF.predict(X_test)\n",
        "    pred_RF = average(pred_RF)\n",
        "    acc6.append(accuracy_score(pred_RF, y_test))\n",
        "    max_depth.append(i)\n",
        "print (max(acc6))"
      ],
      "execution_count": 0,
      "outputs": [
        {
          "output_type": "stream",
          "text": [
            "/usr/local/lib/python3.6/dist-packages/sklearn/ensemble/forest.py:245: FutureWarning: The default value of n_estimators will change from 10 in version 0.20 to 100 in 0.22.\n",
            "  \"10 in version 0.20 to 100 in 0.22.\", FutureWarning)\n",
            "/usr/local/lib/python3.6/dist-packages/sklearn/ensemble/forest.py:245: FutureWarning: The default value of n_estimators will change from 10 in version 0.20 to 100 in 0.22.\n",
            "  \"10 in version 0.20 to 100 in 0.22.\", FutureWarning)\n",
            "/usr/local/lib/python3.6/dist-packages/sklearn/ensemble/forest.py:245: FutureWarning: The default value of n_estimators will change from 10 in version 0.20 to 100 in 0.22.\n",
            "  \"10 in version 0.20 to 100 in 0.22.\", FutureWarning)\n",
            "/usr/local/lib/python3.6/dist-packages/sklearn/ensemble/forest.py:245: FutureWarning: The default value of n_estimators will change from 10 in version 0.20 to 100 in 0.22.\n",
            "  \"10 in version 0.20 to 100 in 0.22.\", FutureWarning)\n",
            "/usr/local/lib/python3.6/dist-packages/sklearn/ensemble/forest.py:245: FutureWarning: The default value of n_estimators will change from 10 in version 0.20 to 100 in 0.22.\n",
            "  \"10 in version 0.20 to 100 in 0.22.\", FutureWarning)\n",
            "/usr/local/lib/python3.6/dist-packages/sklearn/ensemble/forest.py:245: FutureWarning: The default value of n_estimators will change from 10 in version 0.20 to 100 in 0.22.\n",
            "  \"10 in version 0.20 to 100 in 0.22.\", FutureWarning)\n",
            "/usr/local/lib/python3.6/dist-packages/sklearn/ensemble/forest.py:245: FutureWarning: The default value of n_estimators will change from 10 in version 0.20 to 100 in 0.22.\n",
            "  \"10 in version 0.20 to 100 in 0.22.\", FutureWarning)\n",
            "/usr/local/lib/python3.6/dist-packages/sklearn/ensemble/forest.py:245: FutureWarning: The default value of n_estimators will change from 10 in version 0.20 to 100 in 0.22.\n",
            "  \"10 in version 0.20 to 100 in 0.22.\", FutureWarning)\n",
            "/usr/local/lib/python3.6/dist-packages/sklearn/ensemble/forest.py:245: FutureWarning: The default value of n_estimators will change from 10 in version 0.20 to 100 in 0.22.\n",
            "  \"10 in version 0.20 to 100 in 0.22.\", FutureWarning)\n"
          ],
          "name": "stderr"
        },
        {
          "output_type": "stream",
          "text": [
            "0.75\n"
          ],
          "name": "stdout"
        }
      ]
    },
    {
      "cell_type": "code",
      "metadata": {
        "colab_type": "code",
        "id": "PHaLIiPTATEK",
        "colab": {}
      },
      "source": [
        "best_depth_6 = max_depth[acc6.index(max(acc6))]"
      ],
      "execution_count": 0,
      "outputs": []
    },
    {
      "cell_type": "code",
      "metadata": {
        "id": "1VJOMISyF6Em",
        "colab_type": "code",
        "outputId": "5c38e4c1-50cb-4052-a6b1-46f35d8ee150",
        "colab": {
          "base_uri": "https://localhost:8080/",
          "height": 34
        }
      },
      "source": [
        "best_depth_6"
      ],
      "execution_count": 0,
      "outputs": [
        {
          "output_type": "execute_result",
          "data": {
            "text/plain": [
              "8"
            ]
          },
          "metadata": {
            "tags": []
          },
          "execution_count": 26
        }
      ]
    },
    {
      "cell_type": "code",
      "metadata": {
        "colab_type": "code",
        "id": "WV_eusTUk68r",
        "outputId": "28c8616d-fdc5-45df-a826-08bf89dd9006",
        "colab": {
          "base_uri": "https://localhost:8080/",
          "height": 123
        }
      },
      "source": [
        "clf_RF = RandomForestClassifier(max_depth=best_depth_6)\n",
        "clf_RF.fit(X_train, y_train) \n",
        "pred_RF = clf_RF.predict(X_test)\n",
        "pred_RF = average(pred_RF)\n",
        "y_score_6 = clf_RF.predict_proba(X_test)[:,1]\n",
        "acc6 = accuracy_score(y_test, pred_RF)\n",
        "f1_score_6 = metrics.f1_score(y_test, pred_RF)\n",
        "roc_6 = metrics.roc_auc_score(y_test, y_score_6)\n",
        "print([acc6,f1_score_6,roc_6])\n",
        "print(confusion_matrix(y_test, pred_RF))\n",
        "\n",
        "feature_importances = pd.DataFrame(clf_RF.feature_importances_,\n",
        "                                   index = X_train.columns,\n",
        "                                    columns=['importance']).sort_values('importance',ascending=False)"
      ],
      "execution_count": 0,
      "outputs": [
        {
          "output_type": "stream",
          "text": [
            "[0.705, 0.6105610561056105, 0.7773371527777777]\n",
            "[[1137   63]\n",
            " [ 645  555]]\n"
          ],
          "name": "stdout"
        },
        {
          "output_type": "stream",
          "text": [
            "/usr/local/lib/python3.6/dist-packages/sklearn/ensemble/forest.py:245: FutureWarning: The default value of n_estimators will change from 10 in version 0.20 to 100 in 0.22.\n",
            "  \"10 in version 0.20 to 100 in 0.22.\", FutureWarning)\n"
          ],
          "name": "stderr"
        }
      ]
    },
    {
      "cell_type": "code",
      "metadata": {
        "colab_type": "code",
        "id": "wauh7qoabmZQ",
        "outputId": "35e70b3c-dbe7-4348-b1ca-34493d4fdf29",
        "colab": {
          "base_uri": "https://localhost:8080/",
          "height": 68
        }
      },
      "source": [
        "from numpy import loadtxt\n",
        "from xgboost import XGBClassifier\n",
        "from sklearn.metrics import accuracy_score\n",
        "from numpy import loadtxt\n",
        "from xgboost import XGBClassifier\n",
        "\n",
        "clf_XGB = XGBClassifier()\n",
        "clf_XGB.fit(X_train, y_train)\n",
        "pred_XGB = clf_XGB.predict(X_test)\n",
        "pred_XGB = average(pred_XGB)\n",
        "y_score_8 = clf_XGB.predict_proba(X_test)[:,1]\n",
        "acc8 = accuracy_score(y_test,pred_XGB)\n",
        "f1_score_8 = metrics.f1_score(y_test, pred_XGB)\n",
        "roc_8 = metrics.roc_auc_score(y_test, y_score_8)\n",
        "print([acc8,f1_score_8,roc_8])\n",
        "print(confusion_matrix(y_test, pred_XGB))"
      ],
      "execution_count": 0,
      "outputs": [
        {
          "output_type": "stream",
          "text": [
            "[0.74375, 0.6876587100050787, 0.7872850694444444]\n",
            "[[1108   92]\n",
            " [ 523  677]]\n"
          ],
          "name": "stdout"
        }
      ]
    },
    {
      "cell_type": "code",
      "metadata": {
        "colab_type": "code",
        "id": "7TXg-hkpk68z",
        "outputId": "6f79fe97-2e59-4fb0-952c-d0c34525f346",
        "colab": {
          "base_uri": "https://localhost:8080/",
          "height": 295
        }
      },
      "source": [
        "feature_importances"
      ],
      "execution_count": 0,
      "outputs": [
        {
          "output_type": "execute_result",
          "data": {
            "text/html": [
              "<div>\n",
              "<style scoped>\n",
              "    .dataframe tbody tr th:only-of-type {\n",
              "        vertical-align: middle;\n",
              "    }\n",
              "\n",
              "    .dataframe tbody tr th {\n",
              "        vertical-align: top;\n",
              "    }\n",
              "\n",
              "    .dataframe thead th {\n",
              "        text-align: right;\n",
              "    }\n",
              "</style>\n",
              "<table border=\"1\" class=\"dataframe\">\n",
              "  <thead>\n",
              "    <tr style=\"text-align: right;\">\n",
              "      <th></th>\n",
              "      <th>importance</th>\n",
              "    </tr>\n",
              "  </thead>\n",
              "  <tbody>\n",
              "    <tr>\n",
              "      <th>MAR_N</th>\n",
              "      <td>0.167546</td>\n",
              "    </tr>\n",
              "    <tr>\n",
              "      <th>MOE_N</th>\n",
              "      <td>0.148529</td>\n",
              "    </tr>\n",
              "    <tr>\n",
              "      <th>MAR</th>\n",
              "      <td>0.140682</td>\n",
              "    </tr>\n",
              "    <tr>\n",
              "      <th>EAR_N</th>\n",
              "      <td>0.131376</td>\n",
              "    </tr>\n",
              "    <tr>\n",
              "      <th>EAR</th>\n",
              "      <td>0.125618</td>\n",
              "    </tr>\n",
              "    <tr>\n",
              "      <th>Circularity_N</th>\n",
              "      <td>0.106515</td>\n",
              "    </tr>\n",
              "    <tr>\n",
              "      <th>Circularity</th>\n",
              "      <td>0.103410</td>\n",
              "    </tr>\n",
              "    <tr>\n",
              "      <th>MOE</th>\n",
              "      <td>0.076324</td>\n",
              "    </tr>\n",
              "  </tbody>\n",
              "</table>\n",
              "</div>"
            ],
            "text/plain": [
              "               importance\n",
              "MAR_N            0.167546\n",
              "MOE_N            0.148529\n",
              "MAR              0.140682\n",
              "EAR_N            0.131376\n",
              "EAR              0.125618\n",
              "Circularity_N    0.106515\n",
              "Circularity      0.103410\n",
              "MOE              0.076324"
            ]
          },
          "metadata": {
            "tags": []
          },
          "execution_count": 29
        }
      ]
    },
    {
      "cell_type": "code",
      "metadata": {
        "colab_type": "code",
        "id": "rpXIFFy1wf5p",
        "colab": {}
      },
      "source": [
        "X_train_shaped = np.expand_dims(X_train, axis=2)"
      ],
      "execution_count": 0,
      "outputs": []
    },
    {
      "cell_type": "code",
      "metadata": {
        "id": "lkHKjetmSY5w",
        "colab_type": "code",
        "outputId": "028a3dba-47b3-47fc-e05e-2ae3d4c1e68c",
        "colab": {
          "base_uri": "https://localhost:8080/",
          "height": 34
        }
      },
      "source": [
        "X_train_shaped.shape"
      ],
      "execution_count": 9,
      "outputs": [
        {
          "output_type": "execute_result",
          "data": {
            "text/plain": [
              "(8160, 8, 1)"
            ]
          },
          "metadata": {
            "tags": []
          },
          "execution_count": 9
        }
      ]
    },
    {
      "cell_type": "code",
      "metadata": {
        "colab_type": "code",
        "id": "_w0TtS4wxU0z",
        "colab": {}
      },
      "source": [
        "X_test_shaped = np.expand_dims(X_test, axis=2)"
      ],
      "execution_count": 0,
      "outputs": []
    },
    {
      "cell_type": "code",
      "metadata": {
        "id": "GD-o5xWHSbm-",
        "colab_type": "code",
        "outputId": "04cd75e4-0b18-40f5-db2f-41f07f6af103",
        "colab": {
          "base_uri": "https://localhost:8080/",
          "height": 34
        }
      },
      "source": [
        "X_test_shaped.shape"
      ],
      "execution_count": 15,
      "outputs": [
        {
          "output_type": "execute_result",
          "data": {
            "text/plain": [
              "(2400, 8, 1)"
            ]
          },
          "metadata": {
            "tags": []
          },
          "execution_count": 15
        }
      ]
    },
    {
      "cell_type": "code",
      "metadata": {
        "colab_type": "code",
        "id": "KjvYsONWwRwg",
        "outputId": "76f31f6e-bf78-4c06-87eb-302aba4205bc",
        "colab": {
          "base_uri": "https://localhost:8080/",
          "height": 1000
        }
      },
      "source": [
        "from keras.models import Sequential\n",
        "from keras.layers import Dense, Flatten\n",
        "from keras.layers.convolutional import Conv1D\n",
        "from keras.optimizers import Adam, RMSprop\n",
        "from keras.layers import Dropout\n",
        "## Create Model ##\n",
        "\n",
        "model = Sequential()\n",
        "\n",
        "model.add(Conv1D(64, kernel_size = 3, activation = 'relu', input_shape = (8,1)))\n",
        "model.add(Flatten())\n",
        "model.add(Dense(32, activation='relu'))\n",
        "model.add(Dense(16, activation = 'relu'))\n",
        "model.add(Dropout(0.2))\n",
        "model.add(Dense(1,activation = 'sigmoid'))\n",
        "\n",
        "\n",
        "## Compile Model ##\n",
        "optimizer = Adam(lr=0.00001)\n",
        "model.compile(loss='binary_crossentropy', optimizer=optimizer, metrics=['accuracy'])\n",
        "\n",
        "## Train Model and Check Validation Accuracy ##\n",
        "model.fit(X_train_shaped, y_train, validation_data = (X_test_shaped,y_test), epochs = 100)"
      ],
      "execution_count": 26,
      "outputs": [
        {
          "output_type": "stream",
          "text": [
            "Train on 8160 samples, validate on 2400 samples\n",
            "Epoch 1/100\n",
            "8160/8160 [==============================] - 1s 174us/step - loss: 0.7052 - acc: 0.5146 - val_loss: 0.6657 - val_acc: 0.5729\n",
            "Epoch 2/100\n",
            "8160/8160 [==============================] - 1s 63us/step - loss: 0.6787 - acc: 0.5919 - val_loss: 0.6625 - val_acc: 0.6863\n",
            "Epoch 3/100\n",
            "8160/8160 [==============================] - 0s 61us/step - loss: 0.6666 - acc: 0.6376 - val_loss: 0.6592 - val_acc: 0.6963\n",
            "Epoch 4/100\n",
            "8160/8160 [==============================] - 1s 63us/step - loss: 0.6591 - acc: 0.6520 - val_loss: 0.6556 - val_acc: 0.7013\n",
            "Epoch 5/100\n",
            "8160/8160 [==============================] - 1s 62us/step - loss: 0.6515 - acc: 0.6643 - val_loss: 0.6524 - val_acc: 0.7067\n",
            "Epoch 6/100\n",
            "8160/8160 [==============================] - 1s 64us/step - loss: 0.6460 - acc: 0.6756 - val_loss: 0.6498 - val_acc: 0.7058\n",
            "Epoch 7/100\n",
            "8160/8160 [==============================] - 1s 65us/step - loss: 0.6381 - acc: 0.6896 - val_loss: 0.6463 - val_acc: 0.7079\n",
            "Epoch 8/100\n",
            "8160/8160 [==============================] - 1s 62us/step - loss: 0.6330 - acc: 0.6984 - val_loss: 0.6422 - val_acc: 0.7087\n",
            "Epoch 9/100\n",
            "8160/8160 [==============================] - 1s 62us/step - loss: 0.6283 - acc: 0.7015 - val_loss: 0.6386 - val_acc: 0.7142\n",
            "Epoch 10/100\n",
            "8160/8160 [==============================] - 1s 63us/step - loss: 0.6240 - acc: 0.7063 - val_loss: 0.6342 - val_acc: 0.7154\n",
            "Epoch 11/100\n",
            "8160/8160 [==============================] - 1s 63us/step - loss: 0.6201 - acc: 0.7077 - val_loss: 0.6325 - val_acc: 0.7179\n",
            "Epoch 12/100\n",
            "8160/8160 [==============================] - 1s 63us/step - loss: 0.6121 - acc: 0.7134 - val_loss: 0.6284 - val_acc: 0.7225\n",
            "Epoch 13/100\n",
            "8160/8160 [==============================] - 1s 63us/step - loss: 0.6107 - acc: 0.7107 - val_loss: 0.6251 - val_acc: 0.7217\n",
            "Epoch 14/100\n",
            "8160/8160 [==============================] - 1s 63us/step - loss: 0.6034 - acc: 0.7230 - val_loss: 0.6219 - val_acc: 0.7221\n",
            "Epoch 15/100\n",
            "8160/8160 [==============================] - 1s 63us/step - loss: 0.6018 - acc: 0.7188 - val_loss: 0.6190 - val_acc: 0.7188\n",
            "Epoch 16/100\n",
            "8160/8160 [==============================] - 1s 63us/step - loss: 0.5977 - acc: 0.7228 - val_loss: 0.6161 - val_acc: 0.7179\n",
            "Epoch 17/100\n",
            "8160/8160 [==============================] - 1s 63us/step - loss: 0.5949 - acc: 0.7207 - val_loss: 0.6141 - val_acc: 0.7192\n",
            "Epoch 18/100\n",
            "8160/8160 [==============================] - 1s 63us/step - loss: 0.5923 - acc: 0.7216 - val_loss: 0.6112 - val_acc: 0.7179\n",
            "Epoch 19/100\n",
            "8160/8160 [==============================] - 1s 64us/step - loss: 0.5873 - acc: 0.7331 - val_loss: 0.6087 - val_acc: 0.7192\n",
            "Epoch 20/100\n",
            "8160/8160 [==============================] - 1s 63us/step - loss: 0.5848 - acc: 0.7287 - val_loss: 0.6054 - val_acc: 0.7217\n",
            "Epoch 21/100\n",
            "8160/8160 [==============================] - 1s 63us/step - loss: 0.5823 - acc: 0.7287 - val_loss: 0.6027 - val_acc: 0.7192\n",
            "Epoch 22/100\n",
            "8160/8160 [==============================] - 1s 62us/step - loss: 0.5782 - acc: 0.7317 - val_loss: 0.6003 - val_acc: 0.7183\n",
            "Epoch 23/100\n",
            "8160/8160 [==============================] - 1s 62us/step - loss: 0.5789 - acc: 0.7251 - val_loss: 0.5984 - val_acc: 0.7163\n",
            "Epoch 24/100\n",
            "8160/8160 [==============================] - 1s 63us/step - loss: 0.5764 - acc: 0.7289 - val_loss: 0.5978 - val_acc: 0.7146\n",
            "Epoch 25/100\n",
            "8160/8160 [==============================] - 1s 63us/step - loss: 0.5710 - acc: 0.7312 - val_loss: 0.5956 - val_acc: 0.7154\n",
            "Epoch 26/100\n",
            "8160/8160 [==============================] - 1s 62us/step - loss: 0.5705 - acc: 0.7289 - val_loss: 0.5935 - val_acc: 0.7163\n",
            "Epoch 27/100\n",
            "8160/8160 [==============================] - 1s 65us/step - loss: 0.5658 - acc: 0.7321 - val_loss: 0.5913 - val_acc: 0.7171\n",
            "Epoch 28/100\n",
            "8160/8160 [==============================] - 1s 62us/step - loss: 0.5678 - acc: 0.7311 - val_loss: 0.5896 - val_acc: 0.7175\n",
            "Epoch 29/100\n",
            "8160/8160 [==============================] - 1s 61us/step - loss: 0.5637 - acc: 0.7306 - val_loss: 0.5879 - val_acc: 0.7183\n",
            "Epoch 30/100\n",
            "8160/8160 [==============================] - 1s 64us/step - loss: 0.5624 - acc: 0.7360 - val_loss: 0.5868 - val_acc: 0.7171\n",
            "Epoch 31/100\n",
            "8160/8160 [==============================] - 1s 62us/step - loss: 0.5611 - acc: 0.7332 - val_loss: 0.5867 - val_acc: 0.7175\n",
            "Epoch 32/100\n",
            "8160/8160 [==============================] - 1s 62us/step - loss: 0.5597 - acc: 0.7289 - val_loss: 0.5849 - val_acc: 0.7175\n",
            "Epoch 33/100\n",
            "8160/8160 [==============================] - 1s 66us/step - loss: 0.5582 - acc: 0.7320 - val_loss: 0.5836 - val_acc: 0.7183\n",
            "Epoch 34/100\n",
            "8160/8160 [==============================] - 1s 64us/step - loss: 0.5551 - acc: 0.7336 - val_loss: 0.5830 - val_acc: 0.7163\n",
            "Epoch 35/100\n",
            "8160/8160 [==============================] - 1s 63us/step - loss: 0.5559 - acc: 0.7373 - val_loss: 0.5819 - val_acc: 0.7163\n",
            "Epoch 36/100\n",
            "8160/8160 [==============================] - 1s 62us/step - loss: 0.5524 - acc: 0.7402 - val_loss: 0.5820 - val_acc: 0.7163\n",
            "Epoch 37/100\n",
            "8160/8160 [==============================] - 1s 65us/step - loss: 0.5526 - acc: 0.7370 - val_loss: 0.5806 - val_acc: 0.7158\n",
            "Epoch 38/100\n",
            "8160/8160 [==============================] - 1s 65us/step - loss: 0.5540 - acc: 0.7359 - val_loss: 0.5798 - val_acc: 0.7167\n",
            "Epoch 39/100\n",
            "8160/8160 [==============================] - 1s 63us/step - loss: 0.5485 - acc: 0.7333 - val_loss: 0.5795 - val_acc: 0.7163\n",
            "Epoch 40/100\n",
            "8160/8160 [==============================] - 1s 67us/step - loss: 0.5496 - acc: 0.7388 - val_loss: 0.5795 - val_acc: 0.7167\n",
            "Epoch 41/100\n",
            "8160/8160 [==============================] - 1s 61us/step - loss: 0.5488 - acc: 0.7404 - val_loss: 0.5781 - val_acc: 0.7150\n",
            "Epoch 42/100\n",
            "8160/8160 [==============================] - 1s 63us/step - loss: 0.5477 - acc: 0.7369 - val_loss: 0.5789 - val_acc: 0.7163\n",
            "Epoch 43/100\n",
            "8160/8160 [==============================] - 1s 65us/step - loss: 0.5465 - acc: 0.7368 - val_loss: 0.5780 - val_acc: 0.7142\n",
            "Epoch 44/100\n",
            "8160/8160 [==============================] - 1s 64us/step - loss: 0.5455 - acc: 0.7380 - val_loss: 0.5771 - val_acc: 0.7146\n",
            "Epoch 45/100\n",
            "8160/8160 [==============================] - 1s 64us/step - loss: 0.5442 - acc: 0.7401 - val_loss: 0.5768 - val_acc: 0.7142\n",
            "Epoch 46/100\n",
            "8160/8160 [==============================] - 1s 65us/step - loss: 0.5453 - acc: 0.7352 - val_loss: 0.5755 - val_acc: 0.7137\n",
            "Epoch 47/100\n",
            "8160/8160 [==============================] - 1s 62us/step - loss: 0.5451 - acc: 0.7390 - val_loss: 0.5757 - val_acc: 0.7137\n",
            "Epoch 48/100\n",
            "8160/8160 [==============================] - 1s 65us/step - loss: 0.5441 - acc: 0.7373 - val_loss: 0.5769 - val_acc: 0.7108\n",
            "Epoch 49/100\n",
            "8160/8160 [==============================] - 1s 63us/step - loss: 0.5449 - acc: 0.7414 - val_loss: 0.5758 - val_acc: 0.7121\n",
            "Epoch 50/100\n",
            "8160/8160 [==============================] - 1s 62us/step - loss: 0.5428 - acc: 0.7423 - val_loss: 0.5752 - val_acc: 0.7125\n",
            "Epoch 51/100\n",
            "8160/8160 [==============================] - 1s 65us/step - loss: 0.5394 - acc: 0.7433 - val_loss: 0.5752 - val_acc: 0.7121\n",
            "Epoch 52/100\n",
            "8160/8160 [==============================] - 1s 64us/step - loss: 0.5387 - acc: 0.7417 - val_loss: 0.5748 - val_acc: 0.7117\n",
            "Epoch 53/100\n",
            "8160/8160 [==============================] - 1s 64us/step - loss: 0.5373 - acc: 0.7446 - val_loss: 0.5753 - val_acc: 0.7096\n",
            "Epoch 54/100\n",
            "8160/8160 [==============================] - 1s 63us/step - loss: 0.5392 - acc: 0.7447 - val_loss: 0.5756 - val_acc: 0.7079\n",
            "Epoch 55/100\n",
            "8160/8160 [==============================] - 1s 64us/step - loss: 0.5369 - acc: 0.7453 - val_loss: 0.5748 - val_acc: 0.7079\n",
            "Epoch 56/100\n",
            "8160/8160 [==============================] - 1s 64us/step - loss: 0.5372 - acc: 0.7408 - val_loss: 0.5749 - val_acc: 0.7125\n",
            "Epoch 57/100\n",
            "8160/8160 [==============================] - 1s 63us/step - loss: 0.5333 - acc: 0.7483 - val_loss: 0.5750 - val_acc: 0.7046\n",
            "Epoch 58/100\n",
            "8160/8160 [==============================] - 1s 63us/step - loss: 0.5358 - acc: 0.7418 - val_loss: 0.5745 - val_acc: 0.7050\n",
            "Epoch 59/100\n",
            "8160/8160 [==============================] - 1s 63us/step - loss: 0.5368 - acc: 0.7415 - val_loss: 0.5736 - val_acc: 0.7067\n",
            "Epoch 60/100\n",
            "8160/8160 [==============================] - 1s 64us/step - loss: 0.5381 - acc: 0.7398 - val_loss: 0.5735 - val_acc: 0.7071\n",
            "Epoch 61/100\n",
            "8160/8160 [==============================] - 1s 65us/step - loss: 0.5347 - acc: 0.7407 - val_loss: 0.5735 - val_acc: 0.7063\n",
            "Epoch 62/100\n",
            "8160/8160 [==============================] - 1s 63us/step - loss: 0.5339 - acc: 0.7445 - val_loss: 0.5730 - val_acc: 0.7063\n",
            "Epoch 63/100\n",
            "8160/8160 [==============================] - 1s 63us/step - loss: 0.5310 - acc: 0.7469 - val_loss: 0.5739 - val_acc: 0.7071\n",
            "Epoch 64/100\n",
            "8160/8160 [==============================] - 1s 63us/step - loss: 0.5308 - acc: 0.7462 - val_loss: 0.5731 - val_acc: 0.7050\n",
            "Epoch 65/100\n",
            "8160/8160 [==============================] - 1s 62us/step - loss: 0.5324 - acc: 0.7449 - val_loss: 0.5730 - val_acc: 0.7083\n",
            "Epoch 66/100\n",
            "8160/8160 [==============================] - 1s 65us/step - loss: 0.5298 - acc: 0.7502 - val_loss: 0.5730 - val_acc: 0.7054\n",
            "Epoch 67/100\n",
            "8160/8160 [==============================] - 1s 62us/step - loss: 0.5320 - acc: 0.7474 - val_loss: 0.5728 - val_acc: 0.7050\n",
            "Epoch 68/100\n",
            "8160/8160 [==============================] - 1s 65us/step - loss: 0.5299 - acc: 0.7453 - val_loss: 0.5723 - val_acc: 0.7050\n",
            "Epoch 69/100\n",
            "8160/8160 [==============================] - 1s 64us/step - loss: 0.5271 - acc: 0.7467 - val_loss: 0.5726 - val_acc: 0.7046\n",
            "Epoch 70/100\n",
            "8160/8160 [==============================] - 1s 62us/step - loss: 0.5297 - acc: 0.7479 - val_loss: 0.5726 - val_acc: 0.7033\n",
            "Epoch 71/100\n",
            "8160/8160 [==============================] - 1s 64us/step - loss: 0.5280 - acc: 0.7479 - val_loss: 0.5731 - val_acc: 0.7021\n",
            "Epoch 72/100\n",
            "8160/8160 [==============================] - 1s 63us/step - loss: 0.5282 - acc: 0.7450 - val_loss: 0.5724 - val_acc: 0.7058\n",
            "Epoch 73/100\n",
            "8160/8160 [==============================] - 1s 62us/step - loss: 0.5287 - acc: 0.7461 - val_loss: 0.5738 - val_acc: 0.7054\n",
            "Epoch 74/100\n",
            "8160/8160 [==============================] - 1s 62us/step - loss: 0.5273 - acc: 0.7474 - val_loss: 0.5732 - val_acc: 0.7025\n",
            "Epoch 75/100\n",
            "8160/8160 [==============================] - 1s 63us/step - loss: 0.5248 - acc: 0.7488 - val_loss: 0.5726 - val_acc: 0.7025\n",
            "Epoch 76/100\n",
            "8160/8160 [==============================] - 1s 62us/step - loss: 0.5246 - acc: 0.7447 - val_loss: 0.5726 - val_acc: 0.7029\n",
            "Epoch 77/100\n",
            "8160/8160 [==============================] - 1s 64us/step - loss: 0.5256 - acc: 0.7522 - val_loss: 0.5728 - val_acc: 0.7021\n",
            "Epoch 78/100\n",
            "8160/8160 [==============================] - 1s 63us/step - loss: 0.5248 - acc: 0.7507 - val_loss: 0.5717 - val_acc: 0.7013\n",
            "Epoch 79/100\n",
            "8160/8160 [==============================] - 1s 64us/step - loss: 0.5256 - acc: 0.7479 - val_loss: 0.5714 - val_acc: 0.7017\n",
            "Epoch 80/100\n",
            "8160/8160 [==============================] - 1s 62us/step - loss: 0.5215 - acc: 0.7483 - val_loss: 0.5723 - val_acc: 0.7004\n",
            "Epoch 81/100\n",
            "8160/8160 [==============================] - 1s 64us/step - loss: 0.5233 - acc: 0.7471 - val_loss: 0.5725 - val_acc: 0.7008\n",
            "Epoch 82/100\n",
            "8160/8160 [==============================] - 1s 64us/step - loss: 0.5249 - acc: 0.7447 - val_loss: 0.5721 - val_acc: 0.7004\n",
            "Epoch 83/100\n",
            "8160/8160 [==============================] - 1s 64us/step - loss: 0.5242 - acc: 0.7451 - val_loss: 0.5719 - val_acc: 0.6996\n",
            "Epoch 84/100\n",
            "8160/8160 [==============================] - 1s 63us/step - loss: 0.5211 - acc: 0.7475 - val_loss: 0.5719 - val_acc: 0.7004\n",
            "Epoch 85/100\n",
            "8160/8160 [==============================] - 1s 63us/step - loss: 0.5221 - acc: 0.7478 - val_loss: 0.5724 - val_acc: 0.7000\n",
            "Epoch 86/100\n",
            "8160/8160 [==============================] - 1s 65us/step - loss: 0.5223 - acc: 0.7471 - val_loss: 0.5724 - val_acc: 0.7000\n",
            "Epoch 87/100\n",
            "8160/8160 [==============================] - 1s 64us/step - loss: 0.5207 - acc: 0.7496 - val_loss: 0.5715 - val_acc: 0.6996\n",
            "Epoch 88/100\n",
            "8160/8160 [==============================] - 1s 64us/step - loss: 0.5197 - acc: 0.7504 - val_loss: 0.5718 - val_acc: 0.7004\n",
            "Epoch 89/100\n",
            "8160/8160 [==============================] - 1s 63us/step - loss: 0.5196 - acc: 0.7504 - val_loss: 0.5722 - val_acc: 0.6996\n",
            "Epoch 90/100\n",
            "8160/8160 [==============================] - 1s 62us/step - loss: 0.5190 - acc: 0.7505 - val_loss: 0.5715 - val_acc: 0.6996\n",
            "Epoch 91/100\n",
            "8160/8160 [==============================] - 1s 63us/step - loss: 0.5192 - acc: 0.7490 - val_loss: 0.5715 - val_acc: 0.6996\n",
            "Epoch 92/100\n",
            "8160/8160 [==============================] - 1s 63us/step - loss: 0.5195 - acc: 0.7520 - val_loss: 0.5724 - val_acc: 0.6979\n",
            "Epoch 93/100\n",
            "8160/8160 [==============================] - 1s 63us/step - loss: 0.5160 - acc: 0.7517 - val_loss: 0.5709 - val_acc: 0.7013\n",
            "Epoch 94/100\n",
            "8160/8160 [==============================] - 1s 63us/step - loss: 0.5184 - acc: 0.7495 - val_loss: 0.5713 - val_acc: 0.7004\n",
            "Epoch 95/100\n",
            "8160/8160 [==============================] - 1s 65us/step - loss: 0.5191 - acc: 0.7450 - val_loss: 0.5721 - val_acc: 0.6983\n",
            "Epoch 96/100\n",
            "8160/8160 [==============================] - 1s 63us/step - loss: 0.5193 - acc: 0.7483 - val_loss: 0.5712 - val_acc: 0.6975\n",
            "Epoch 97/100\n",
            "8160/8160 [==============================] - 0s 61us/step - loss: 0.5176 - acc: 0.7512 - val_loss: 0.5708 - val_acc: 0.6996\n",
            "Epoch 98/100\n",
            "8160/8160 [==============================] - 1s 63us/step - loss: 0.5156 - acc: 0.7510 - val_loss: 0.5718 - val_acc: 0.6975\n",
            "Epoch 99/100\n",
            "8160/8160 [==============================] - 1s 62us/step - loss: 0.5147 - acc: 0.7506 - val_loss: 0.5721 - val_acc: 0.6971\n",
            "Epoch 100/100\n",
            "8160/8160 [==============================] - 1s 64us/step - loss: 0.5180 - acc: 0.7515 - val_loss: 0.5716 - val_acc: 0.6979\n"
          ],
          "name": "stdout"
        },
        {
          "output_type": "execute_result",
          "data": {
            "text/plain": [
              "<keras.callbacks.History at 0x7fbe0ce16da0>"
            ]
          },
          "metadata": {
            "tags": []
          },
          "execution_count": 26
        }
      ]
    },
    {
      "cell_type": "code",
      "metadata": {
        "id": "RzGUumAdfzfW",
        "colab_type": "code",
        "outputId": "86f55c15-0038-4eff-af31-e75a5c933550",
        "colab": {
          "base_uri": "https://localhost:8080/",
          "height": 360
        }
      },
      "source": [
        "model.summary()"
      ],
      "execution_count": 27,
      "outputs": [
        {
          "output_type": "stream",
          "text": [
            "Model: \"sequential_8\"\n",
            "_________________________________________________________________\n",
            "Layer (type)                 Output Shape              Param #   \n",
            "=================================================================\n",
            "conv1d_8 (Conv1D)            (None, 6, 64)             256       \n",
            "_________________________________________________________________\n",
            "flatten_8 (Flatten)          (None, 384)               0         \n",
            "_________________________________________________________________\n",
            "dense_22 (Dense)             (None, 32)                12320     \n",
            "_________________________________________________________________\n",
            "dense_23 (Dense)             (None, 16)                528       \n",
            "_________________________________________________________________\n",
            "dropout_4 (Dropout)          (None, 16)                0         \n",
            "_________________________________________________________________\n",
            "dense_24 (Dense)             (None, 1)                 17        \n",
            "=================================================================\n",
            "Total params: 13,121\n",
            "Trainable params: 13,121\n",
            "Non-trainable params: 0\n",
            "_________________________________________________________________\n"
          ],
          "name": "stdout"
        }
      ]
    },
    {
      "cell_type": "code",
      "metadata": {
        "colab_type": "code",
        "id": "RywX2STyx_Ie",
        "outputId": "a010e6b0-cb3b-4715-e309-605db18b7a94",
        "colab": {
          "base_uri": "https://localhost:8080/",
          "height": 68
        }
      },
      "source": [
        "pred_cnn = model.predict_classes(X_test_shaped)\n",
        "pred_cnn = average(pred_cnn)\n",
        "y_score_7 = model.predict_proba(X_test_shaped)\n",
        "acc7 = accuracy_score(y_test, np.array(pred_cnn))\n",
        "f1_score_7 = metrics.f1_score(y_test, pred_cnn)\n",
        "roc_7 = metrics.roc_auc_score(y_test, y_score_7)\n",
        "print([acc7,f1_score_7,roc_7])\n",
        "print(confusion_matrix(y_test, pred_cnn))"
      ],
      "execution_count": 28,
      "outputs": [
        {
          "output_type": "stream",
          "text": [
            "[0.7104166666666667, 0.7026101839965768, 0.7778354166666667]\n",
            "[[884 316]\n",
            " [379 821]]\n"
          ],
          "name": "stdout"
        }
      ]
    },
    {
      "cell_type": "code",
      "metadata": {
        "colab_type": "code",
        "id": "EaB67cSUk685",
        "outputId": "2f1757dc-d577-4ebe-a361-39a5e460b972",
        "colab": {
          "base_uri": "https://localhost:8080/",
          "height": 640
        }
      },
      "source": [
        "acc_total = {'Model':['Logistic Regression','Naive Bayes', 'KNN', 'MLP','Decision Tree','Random Forest', 'CNN', 'XGB Boosting'],\n",
        "        'Accuracy':[acc1,acc2, acc3, acc4, acc5,acc6,acc7, acc8]}\n",
        "acc_total=pd.DataFrame(acc_total)\n",
        "acc_total=acc_total.set_index('Model')\n",
        "acc_total\n",
        "plt.plot(acc_total['Accuracy'])\n",
        "plt.xticks(rotation=45)\n",
        "acc_total"
      ],
      "execution_count": 0,
      "outputs": [
        {
          "output_type": "execute_result",
          "data": {
            "text/html": [
              "<div>\n",
              "<style scoped>\n",
              "    .dataframe tbody tr th:only-of-type {\n",
              "        vertical-align: middle;\n",
              "    }\n",
              "\n",
              "    .dataframe tbody tr th {\n",
              "        vertical-align: top;\n",
              "    }\n",
              "\n",
              "    .dataframe thead th {\n",
              "        text-align: right;\n",
              "    }\n",
              "</style>\n",
              "<table border=\"1\" class=\"dataframe\">\n",
              "  <thead>\n",
              "    <tr style=\"text-align: right;\">\n",
              "      <th></th>\n",
              "      <th>Accuracy</th>\n",
              "    </tr>\n",
              "    <tr>\n",
              "      <th>Model</th>\n",
              "      <th></th>\n",
              "    </tr>\n",
              "  </thead>\n",
              "  <tbody>\n",
              "    <tr>\n",
              "      <th>Logistic Regression</th>\n",
              "      <td>0.643333</td>\n",
              "    </tr>\n",
              "    <tr>\n",
              "      <th>Naive Bayes</th>\n",
              "      <td>0.577500</td>\n",
              "    </tr>\n",
              "    <tr>\n",
              "      <th>KNN</th>\n",
              "      <td>0.772083</td>\n",
              "    </tr>\n",
              "    <tr>\n",
              "      <th>MLP</th>\n",
              "      <td>0.755833</td>\n",
              "    </tr>\n",
              "    <tr>\n",
              "      <th>Decision Tree</th>\n",
              "      <td>0.750417</td>\n",
              "    </tr>\n",
              "    <tr>\n",
              "      <th>Random Forest</th>\n",
              "      <td>0.705000</td>\n",
              "    </tr>\n",
              "    <tr>\n",
              "      <th>CNN</th>\n",
              "      <td>0.710833</td>\n",
              "    </tr>\n",
              "    <tr>\n",
              "      <th>XGB Boosting</th>\n",
              "      <td>0.743750</td>\n",
              "    </tr>\n",
              "  </tbody>\n",
              "</table>\n",
              "</div>"
            ],
            "text/plain": [
              "                     Accuracy\n",
              "Model                        \n",
              "Logistic Regression  0.643333\n",
              "Naive Bayes          0.577500\n",
              "KNN                  0.772083\n",
              "MLP                  0.755833\n",
              "Decision Tree        0.750417\n",
              "Random Forest        0.705000\n",
              "CNN                  0.710833\n",
              "XGB Boosting         0.743750"
            ]
          },
          "metadata": {
            "tags": []
          },
          "execution_count": 40
        },
        {
          "output_type": "display_data",
          "data": {
            "image/png": "[encoded data removed]",
            "text/plain": [
              "<Figure size 432x288 with 1 Axes>"
            ]
          },
          "metadata": {
            "tags": []
          }
        }
      ]
    },
    {
      "cell_type": "code",
      "metadata": {
        "colab_type": "code",
        "id": "CWdLFfxwk68-",
        "outputId": "042d9512-c296-42e2-b7b8-748bd6b27f07",
        "colab": {
          "base_uri": "https://localhost:8080/",
          "height": 530
        }
      },
      "source": [
        "plt.figure(figsize=(10,8))\n",
        "plt.plot([0, 1], [0, 1],'r--')\n",
        "fpr_1, tpr_1, thresholds = roc_curve(y_test, y_score_1)\n",
        "fpr_2, tpr_2, thresholds = roc_curve(y_test, y_score_2)\n",
        "fpr_3, tpr_3, thresholds = roc_curve(y_test, y_score_3)\n",
        "fpr_4, tpr_4, thresholds = roc_curve(y_test, y_score_4)\n",
        "fpr_5, tpr_5, thresholds = roc_curve(y_test, y_score_5)\n",
        "fpr_6, tpr_6, thresholds = roc_curve(y_test, y_score_6)\n",
        "fpr_7, tpr_7, thresholds = roc_curve(y_test, y_score_7)\n",
        "plt.plot(fpr_1, tpr_1, label= \"Logistic Regression\")\n",
        "plt.plot(fpr_2, tpr_2, label= \"Naive Bayes\")\n",
        "plt.plot(fpr_3, tpr_3, label= \"KNN\")\n",
        "plt.plot(fpr_4, tpr_4, label= \"MLP\")\n",
        "plt.plot(fpr_5, tpr_5, label= \"Decision Tree\")\n",
        "plt.plot(fpr_6, tpr_6, label= \"Random Forest\")\n",
        "plt.plot(fpr_7, tpr_7, label= \"CNN\")\n",
        "plt.title('ROC Curve for LSTM')\n",
        "plt.xlabel('False Positive Rate')\n",
        "plt.ylabel('True Positive Rate')\n",
        "plt.legend()"
      ],
      "execution_count": 0,
      "outputs": [
        {
          "output_type": "execute_result",
          "data": {
            "text/plain": [
              "<matplotlib.legend.Legend at 0x7f85ff14c860>"
            ]
          },
          "metadata": {
            "tags": []
          },
          "execution_count": 49
        },
        {
          "output_type": "display_data",
          "data": {
            "image/png": "[encoded data removed]",
            "text/plain": [
              "<Figure size 720x576 with 1 Axes>"
            ]
          },
          "metadata": {
            "tags": []
          }
        }
      ]
    },
    {
      "cell_type": "code",
      "metadata": {
        "colab_type": "code",
        "id": "ODyvwz5cCG2v",
        "outputId": "e0843c22-72f1-44ac-ad40-f1782b566f40",
        "colab": {
          "base_uri": "https://localhost:8080/",
          "height": 501
        }
      },
      "source": [
        "from sklearn.calibration import calibration_curve\n",
        "plt.figure(figsize=(8,8))\n",
        "plt.plot([0, 1], [0, 1], \"k:\", label=\"Perfectly calibrated\")\n",
        "fraction_of_positives, mean_predicted_value=calibration_curve(y_test,y_score_1,n_bins=10)\n",
        "plt.plot(mean_predicted_value, fraction_of_positives,\"s-\",\n",
        "                 label=\"%s\" % 'Logistic Regression')\n",
        "fraction_of_positives, mean_predicted_value=calibration_curve(y_test,y_score_2,n_bins=10)\n",
        "plt.plot(mean_predicted_value, fraction_of_positives,\"s-\",\n",
        "                 label=\"%s\" % 'Naive Bayes')\n",
        "fraction_of_positives, mean_predicted_value=calibration_curve(y_test,y_score_3,n_bins=10)\n",
        "plt.plot(mean_predicted_value, fraction_of_positives,\"s-\",\n",
        "                 label=\"%s\" % 'KNN')\n",
        "fraction_of_positives, mean_predicted_value=calibration_curve(y_test,y_score_4,n_bins=10)\n",
        "plt.plot(mean_predicted_value, fraction_of_positives,\"s-\",\n",
        "                 label=\"%s\" % 'MLP')\n",
        "fraction_of_positives, mean_predicted_value=calibration_curve(y_test,y_score_5,n_bins=10)\n",
        "plt.plot(mean_predicted_value, fraction_of_positives,\"s-\",\n",
        "                 label=\"%s\" % 'Decision Tree')\n",
        "fraction_of_positives, mean_predicted_value=calibration_curve(y_test,y_score_6,n_bins=10)\n",
        "plt.plot(mean_predicted_value, fraction_of_positives,\"s-\",\n",
        "                 label=\"%s\" % 'Random Forest')\n",
        "fraction_of_positives, mean_predicted_value=calibration_curve(y_test,y_score_7,n_bins=10)\n",
        "plt.plot(mean_predicted_value, fraction_of_positives,\"s-\",\n",
        "                 label=\"%s\" % 'CNN')\n",
        "plt.legend(loc=\"lower right\")"
      ],
      "execution_count": 0,
      "outputs": [
        {
          "output_type": "execute_result",
          "data": {
            "text/plain": [
              "<matplotlib.legend.Legend at 0x7ff76ba42dd8>"
            ]
          },
          "metadata": {
            "tags": []
          },
          "execution_count": 39
        },
        {
          "output_type": "display_data",
          "data": {
            "image/png": "[encoded data removed]",
            "text/plain": [
              "<Figure size 576x576 with 1 Axes>"
            ]
          },
          "metadata": {
            "tags": []
          }
        }
      ]
    }
  ]
}